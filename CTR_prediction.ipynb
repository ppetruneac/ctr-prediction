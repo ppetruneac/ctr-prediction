{
 "cells": [
  {
   "cell_type": "markdown",
   "metadata": {},
   "source": [
    "# Challenge \n",
    "\n",
    "\n",
    "We expect you to: \n",
    "  - finish the test in 2-3 hours\n",
    "  - return the results in 1 week but the sooner the better\n",
    "  - build an end-to-end pipeline for the task\n",
    "  - showcase your understanding of various aspects of ML: ETL, model building and selection, evaluation, etc.\n",
    "  - develop in python (jupyter notebooks) with reasonable comments\n",
    "  - use version control with appropriate commit messages\n",
    "\n",
    "The test is about building a CTR prediction model with one of the datasets:\n",
    "  - https://www.kaggle.com/c/online-advertising-challenge-spring-2018\n",
    "  - https://www.kaggle.com/c/avazu-ctr-prediction\n",
    "  - https://www.kaggle.com/c/talkingdata-adtracking-fraud-detection\n",
    "  - https://www.kaggle.com/c/criteo-display-ad-challenge"
   ]
  },
  {
   "cell_type": "markdown",
   "metadata": {},
   "source": [
    "# Data \n",
    "\n",
    "For this exercise [Avazu dataset](https://www.kaggle.com/c/avazu-ctr-prediction/overview) is used. There is no particular reason for choosing one dataset over another. \n",
    "\n",
    "Data was downloaded from the link above and saved into the `data` folder. After decompressing, the files were renamed to *csv* extension. Please refer to the link for more data description. "
   ]
  },
  {
   "cell_type": "code",
   "execution_count": 29,
   "metadata": {
    "ExecuteTime": {
     "end_time": "2019-07-01T20:36:08.363757Z",
     "start_time": "2019-07-01T20:36:08.210550Z"
    }
   },
   "outputs": [
    {
     "name": "stdout",
     "output_type": "stream",
     "text": [
      "id,click,hour,C1,banner_pos,site_id,site_domain,site_category,app_id,app_domain,app_category,device_id,device_ip,device_model,device_type,device_conn_type,C14,C15,C16,C17,C18,C19,C20,C21\r",
      "\r\n",
      "1000009418151094273,0,14102100,1005,0,1fbe01fe,f3845767,28905ebd,ecad2386,7801e8d9,07d7df22,a99f214a,ddd2926e,44956a24,1,2,15706,320,50,1722,0,35,-1,79\r",
      "\r\n",
      "10000169349117863715,0,14102100,1005,0,1fbe01fe,f3845767,28905ebd,ecad2386,7801e8d9,07d7df22,a99f214a,96809ac8,711ee120,1,0,15704,320,50,1722,0,35,100084,79\r",
      "\r\n",
      "10000371904215119486,0,14102100,1005,0,1fbe01fe,f3845767,28905ebd,ecad2386,7801e8d9,07d7df22,a99f214a,b3cf8def,8a4875bd,1,0,15704,320,50,1722,0,35,100084,79\r",
      "\r\n",
      "10000640724480838376,0,14102100,1005,0,1fbe01fe,f3845767,28905ebd,ecad2386,7801e8d9,07d7df22,a99f214a,e8275b8f,6332421a,1,0,15706,320,50,1722,0,35,100084,79\r",
      "\r\n",
      "10000679056417042096,0,14102100,1005,1,fe8cc448,9166c161,0569f928,ecad2386,7801e8d9,07d7df22,a99f214a,9644d0bf,779d90c2,1,0,18993,320,50,2161,0,35,-1,157\r",
      "\r\n",
      "10000720757801103869,0,14102100,1005,0,d6137915,bb1ef334,f028772b,ecad2386,7801e8d9,07d7df22,a99f214a,05241af0,8a4875bd,1,0,16920,320,50,1899,0,431,100077,117\r",
      "\r\n",
      "10000724729988544911,0,14102100,1005,0,8fda644b,25d4cfcd,f028772b,ecad2386,7801e8d9,07d7df22,a99f214a,b264c159,be6db1d7,1,0,20362,320,50,2333,0,39,-1,157\r",
      "\r\n",
      "10000918755742328737,0,14102100,1005,1,e151e245,7e091613,f028772b,ecad2386,7801e8d9,07d7df22,a99f214a,e6f67278,be74e6fe,1,0,20632,320,50,2374,3,39,-1,23\r",
      "\r\n",
      "10000949271186029916,1,14102100,1005,0,1fbe01fe,f3845767,28905ebd,ecad2386,7801e8d9,07d7df22,a99f214a,37e8da74,5db079b5,1,2,15707,320,50,1722,0,35,-1,79\r",
      "\r\n"
     ]
    }
   ],
   "source": [
    "! head ./data/avazu-ctr-prediction/train.csv"
   ]
  },
  {
   "cell_type": "code",
   "execution_count": 30,
   "metadata": {
    "ExecuteTime": {
     "end_time": "2019-07-01T20:25:25.689929Z",
     "start_time": "2019-07-01T20:23:08.166387Z"
    },
    "scrolled": false
   },
   "outputs": [
    {
     "name": "stdout",
     "output_type": "stream",
     "text": [
      "train shape = (40428967, 24)\n",
      "test shape = (4577464, 23)\n"
     ]
    },
    {
     "data": {
      "text/html": [
       "<div>\n",
       "<style scoped>\n",
       "    .dataframe tbody tr th:only-of-type {\n",
       "        vertical-align: middle;\n",
       "    }\n",
       "\n",
       "    .dataframe tbody tr th {\n",
       "        vertical-align: top;\n",
       "    }\n",
       "\n",
       "    .dataframe thead th {\n",
       "        text-align: right;\n",
       "    }\n",
       "</style>\n",
       "<table border=\"1\" class=\"dataframe\">\n",
       "  <thead>\n",
       "    <tr style=\"text-align: right;\">\n",
       "      <th></th>\n",
       "      <th>id</th>\n",
       "      <th>click</th>\n",
       "      <th>hour</th>\n",
       "      <th>C1</th>\n",
       "      <th>banner_pos</th>\n",
       "      <th>site_id</th>\n",
       "      <th>site_domain</th>\n",
       "      <th>site_category</th>\n",
       "      <th>app_id</th>\n",
       "      <th>app_domain</th>\n",
       "      <th>...</th>\n",
       "      <th>device_type</th>\n",
       "      <th>device_conn_type</th>\n",
       "      <th>C14</th>\n",
       "      <th>C15</th>\n",
       "      <th>C16</th>\n",
       "      <th>C17</th>\n",
       "      <th>C18</th>\n",
       "      <th>C19</th>\n",
       "      <th>C20</th>\n",
       "      <th>C21</th>\n",
       "    </tr>\n",
       "  </thead>\n",
       "  <tbody>\n",
       "    <tr>\n",
       "      <th>0</th>\n",
       "      <td>1.000009e+18</td>\n",
       "      <td>0</td>\n",
       "      <td>14102100</td>\n",
       "      <td>1005</td>\n",
       "      <td>0</td>\n",
       "      <td>1fbe01fe</td>\n",
       "      <td>f3845767</td>\n",
       "      <td>28905ebd</td>\n",
       "      <td>ecad2386</td>\n",
       "      <td>7801e8d9</td>\n",
       "      <td>...</td>\n",
       "      <td>1</td>\n",
       "      <td>2</td>\n",
       "      <td>15706</td>\n",
       "      <td>320</td>\n",
       "      <td>50</td>\n",
       "      <td>1722</td>\n",
       "      <td>0</td>\n",
       "      <td>35</td>\n",
       "      <td>-1</td>\n",
       "      <td>79</td>\n",
       "    </tr>\n",
       "    <tr>\n",
       "      <th>1</th>\n",
       "      <td>1.000017e+19</td>\n",
       "      <td>0</td>\n",
       "      <td>14102100</td>\n",
       "      <td>1005</td>\n",
       "      <td>0</td>\n",
       "      <td>1fbe01fe</td>\n",
       "      <td>f3845767</td>\n",
       "      <td>28905ebd</td>\n",
       "      <td>ecad2386</td>\n",
       "      <td>7801e8d9</td>\n",
       "      <td>...</td>\n",
       "      <td>1</td>\n",
       "      <td>0</td>\n",
       "      <td>15704</td>\n",
       "      <td>320</td>\n",
       "      <td>50</td>\n",
       "      <td>1722</td>\n",
       "      <td>0</td>\n",
       "      <td>35</td>\n",
       "      <td>100084</td>\n",
       "      <td>79</td>\n",
       "    </tr>\n",
       "    <tr>\n",
       "      <th>2</th>\n",
       "      <td>1.000037e+19</td>\n",
       "      <td>0</td>\n",
       "      <td>14102100</td>\n",
       "      <td>1005</td>\n",
       "      <td>0</td>\n",
       "      <td>1fbe01fe</td>\n",
       "      <td>f3845767</td>\n",
       "      <td>28905ebd</td>\n",
       "      <td>ecad2386</td>\n",
       "      <td>7801e8d9</td>\n",
       "      <td>...</td>\n",
       "      <td>1</td>\n",
       "      <td>0</td>\n",
       "      <td>15704</td>\n",
       "      <td>320</td>\n",
       "      <td>50</td>\n",
       "      <td>1722</td>\n",
       "      <td>0</td>\n",
       "      <td>35</td>\n",
       "      <td>100084</td>\n",
       "      <td>79</td>\n",
       "    </tr>\n",
       "    <tr>\n",
       "      <th>3</th>\n",
       "      <td>1.000064e+19</td>\n",
       "      <td>0</td>\n",
       "      <td>14102100</td>\n",
       "      <td>1005</td>\n",
       "      <td>0</td>\n",
       "      <td>1fbe01fe</td>\n",
       "      <td>f3845767</td>\n",
       "      <td>28905ebd</td>\n",
       "      <td>ecad2386</td>\n",
       "      <td>7801e8d9</td>\n",
       "      <td>...</td>\n",
       "      <td>1</td>\n",
       "      <td>0</td>\n",
       "      <td>15706</td>\n",
       "      <td>320</td>\n",
       "      <td>50</td>\n",
       "      <td>1722</td>\n",
       "      <td>0</td>\n",
       "      <td>35</td>\n",
       "      <td>100084</td>\n",
       "      <td>79</td>\n",
       "    </tr>\n",
       "    <tr>\n",
       "      <th>4</th>\n",
       "      <td>1.000068e+19</td>\n",
       "      <td>0</td>\n",
       "      <td>14102100</td>\n",
       "      <td>1005</td>\n",
       "      <td>1</td>\n",
       "      <td>fe8cc448</td>\n",
       "      <td>9166c161</td>\n",
       "      <td>0569f928</td>\n",
       "      <td>ecad2386</td>\n",
       "      <td>7801e8d9</td>\n",
       "      <td>...</td>\n",
       "      <td>1</td>\n",
       "      <td>0</td>\n",
       "      <td>18993</td>\n",
       "      <td>320</td>\n",
       "      <td>50</td>\n",
       "      <td>2161</td>\n",
       "      <td>0</td>\n",
       "      <td>35</td>\n",
       "      <td>-1</td>\n",
       "      <td>157</td>\n",
       "    </tr>\n",
       "  </tbody>\n",
       "</table>\n",
       "<p>5 rows × 24 columns</p>\n",
       "</div>"
      ],
      "text/plain": [
       "             id  click      hour    C1  banner_pos   site_id site_domain  \\\n",
       "0  1.000009e+18      0  14102100  1005           0  1fbe01fe    f3845767   \n",
       "1  1.000017e+19      0  14102100  1005           0  1fbe01fe    f3845767   \n",
       "2  1.000037e+19      0  14102100  1005           0  1fbe01fe    f3845767   \n",
       "3  1.000064e+19      0  14102100  1005           0  1fbe01fe    f3845767   \n",
       "4  1.000068e+19      0  14102100  1005           1  fe8cc448    9166c161   \n",
       "\n",
       "  site_category    app_id app_domain ...  device_type device_conn_type    C14  \\\n",
       "0      28905ebd  ecad2386   7801e8d9 ...            1                2  15706   \n",
       "1      28905ebd  ecad2386   7801e8d9 ...            1                0  15704   \n",
       "2      28905ebd  ecad2386   7801e8d9 ...            1                0  15704   \n",
       "3      28905ebd  ecad2386   7801e8d9 ...            1                0  15706   \n",
       "4      0569f928  ecad2386   7801e8d9 ...            1                0  18993   \n",
       "\n",
       "   C15  C16   C17  C18  C19     C20  C21  \n",
       "0  320   50  1722    0   35      -1   79  \n",
       "1  320   50  1722    0   35  100084   79  \n",
       "2  320   50  1722    0   35  100084   79  \n",
       "3  320   50  1722    0   35  100084   79  \n",
       "4  320   50  2161    0   35      -1  157  \n",
       "\n",
       "[5 rows x 24 columns]"
      ]
     },
     "metadata": {},
     "output_type": "display_data"
    }
   ],
   "source": [
    "# Reading the data with Dask - in parallel \n",
    "import dask.dataframe as dd\n",
    "\n",
    "# Define schema dict; this will force schema when reding data. \n",
    "dict_schema = {'id': 'float64'}\n",
    "\n",
    "train = dd.read_csv(urlpath='./data/avazu-ctr-prediction/train.csv', dtype = dict_schema)\n",
    "test = dd.read_csv(urlpath='./data/avazu-ctr-prediction/test.csv', dtype = dict_schema)\n",
    "\n",
    "# print data head and shape\n",
    "print('train shape = {}'.format(train.compute().shape))\n",
    "print('test shape = {}'.format(test.compute().shape))\n",
    "\n",
    "display(train.head())"
   ]
  },
  {
   "cell_type": "code",
   "execution_count": 31,
   "metadata": {
    "ExecuteTime": {
     "end_time": "2019-07-01T20:27:14.182695Z",
     "start_time": "2019-07-01T20:27:14.178638Z"
    }
   },
   "outputs": [
    {
     "data": {
      "text/plain": [
       "Index(['id', 'click', 'hour', 'C1', 'banner_pos', 'site_id', 'site_domain',\n",
       "       'site_category', 'app_id', 'app_domain', 'app_category', 'device_id',\n",
       "       'device_ip', 'device_model', 'device_type', 'device_conn_type', 'C14',\n",
       "       'C15', 'C16', 'C17', 'C18', 'C19', 'C20', 'C21'],\n",
       "      dtype='object')"
      ]
     },
     "execution_count": 31,
     "metadata": {},
     "output_type": "execute_result"
    }
   ],
   "source": [
    "train.columns"
   ]
  },
  {
   "cell_type": "code",
   "execution_count": 32,
   "metadata": {
    "ExecuteTime": {
     "end_time": "2019-07-01T20:27:20.144731Z",
     "start_time": "2019-07-01T20:27:20.141247Z"
    }
   },
   "outputs": [
    {
     "data": {
      "text/plain": [
       "Index(['id', 'hour', 'C1', 'banner_pos', 'site_id', 'site_domain',\n",
       "       'site_category', 'app_id', 'app_domain', 'app_category', 'device_id',\n",
       "       'device_ip', 'device_model', 'device_type', 'device_conn_type', 'C14',\n",
       "       'C15', 'C16', 'C17', 'C18', 'C19', 'C20', 'C21'],\n",
       "      dtype='object')"
      ]
     },
     "execution_count": 32,
     "metadata": {},
     "output_type": "execute_result"
    }
   ],
   "source": [
    "test.columns"
   ]
  },
  {
   "cell_type": "code",
   "execution_count": 33,
   "metadata": {
    "ExecuteTime": {
     "end_time": "2019-07-01T20:31:51.467815Z",
     "start_time": "2019-07-01T20:31:51.463985Z"
    }
   },
   "outputs": [
    {
     "data": {
      "text/plain": [
       "dask.dataframe.core.DataFrame"
      ]
     },
     "execution_count": 33,
     "metadata": {},
     "output_type": "execute_result"
    }
   ],
   "source": [
    "type(train)"
   ]
  },
  {
   "cell_type": "markdown",
   "metadata": {},
   "source": [
    "**NOTE**\n",
    "\n",
    "**This dataset appears to be big enough to not accommodate light ML training on local machine. In this context, I will limit the analysis to 1M observations in the training dataset and the respective about 2.5% in the testing dataset.**\n",
    "\n",
    "**This is a limitation when it comes to the accuracy of the model. I assume the task is not necessarily concerned with accuracy (even though this is important), but rather with building end to end ML and feature engineering. Having said that, I can certainly use the cloud for more computing resources, but this is not explored here.**"
   ]
  },
  {
   "cell_type": "code",
   "execution_count": 35,
   "metadata": {
    "ExecuteTime": {
     "end_time": "2019-07-01T20:58:31.314171Z",
     "start_time": "2019-07-01T20:56:47.252179Z"
    }
   },
   "outputs": [],
   "source": [
    "# Sample the data and save to disk\n",
    "sample_fraction = 0.025\n",
    "train_sample = train.sample(frac=sample_fraction)\n",
    "train_sample.compute().to_csv('./data/avazu-ctr-prediction/train_sample.csv', index = None)\n",
    "\n",
    "test_sample = test.sample(frac=sample_fraction)\n",
    "test_sample.compute().to_csv('./data/avazu-ctr-prediction/test_sample.csv', index = None)"
   ]
  },
  {
   "cell_type": "code",
   "execution_count": 61,
   "metadata": {
    "ExecuteTime": {
     "end_time": "2019-07-02T07:37:21.229556Z",
     "start_time": "2019-07-02T07:37:20.234104Z"
    }
   },
   "outputs": [
    {
     "name": "stdout",
     "output_type": "stream",
     "text": [
      "train sample shape = (1010725, 24)\n",
      "test sample shape = (114436, 23)\n"
     ]
    }
   ],
   "source": [
    "# Reading the data back -- not needed now; just in case you start fresh. \n",
    "\n",
    "# Reading the data with Dask - in parallel \n",
    "import dask.dataframe as dd\n",
    "dict_schema = {'id': 'float64', 'hour': 'object'}\n",
    "\n",
    "train_sample = dd.read_csv(urlpath='./data/avazu-ctr-prediction/train_sample.csv', dtype = dict_schema).compute()\n",
    "test_sample = dd.read_csv(urlpath='./data/avazu-ctr-prediction/test_sample.csv', dtype = dict_schema).compute()\n",
    "\n",
    "print('train sample shape = {}'.format(train_sample.shape))\n",
    "print('test sample shape = {}'.format(test_sample.shape))"
   ]
  },
  {
   "cell_type": "markdown",
   "metadata": {
    "ExecuteTime": {
     "end_time": "2019-07-01T20:59:29.434287Z",
     "start_time": "2019-07-01T20:59:29.392516Z"
    },
    "scrolled": true
   },
   "source": [
    "# Data Exploration\n",
    "\n",
    "The aim of this section is not to conduct an intensive EDA (this was addressed in previous exercise), but to explore feature distribution and how it relates to the CTR. \n",
    "\n",
    "https://towardsdatascience.com/mobile-ads-click-through-rate-ctr-prediction-44fdac40c6ff\n"
   ]
  },
  {
   "cell_type": "code",
   "execution_count": 69,
   "metadata": {},
   "outputs": [],
   "source": [
    "# Train and test have unique id  -- this will be removed as it is not used in predictions \n",
    "\n",
    "train_sample.drop('id', axis=1, inplace=True)\n",
    "test_sample.drop('id', axis=1, inplace=True)"
   ]
  },
  {
   "cell_type": "code",
   "execution_count": 71,
   "metadata": {
    "ExecuteTime": {
     "end_time": "2019-07-02T07:58:21.555703Z",
     "start_time": "2019-07-02T07:58:21.545677Z"
    }
   },
   "outputs": [
    {
     "data": {
      "text/plain": [
       "click                int64\n",
       "hour                object\n",
       "C1                   int64\n",
       "banner_pos           int64\n",
       "site_id             object\n",
       "site_domain         object\n",
       "site_category       object\n",
       "app_id              object\n",
       "app_domain          object\n",
       "app_category        object\n",
       "device_id           object\n",
       "device_ip           object\n",
       "device_model        object\n",
       "device_type          int64\n",
       "device_conn_type     int64\n",
       "C14                  int64\n",
       "C15                  int64\n",
       "C16                  int64\n",
       "C17                  int64\n",
       "C18                  int64\n",
       "C19                  int64\n",
       "C20                  int64\n",
       "C21                  int64\n",
       "dtype: object"
      ]
     },
     "metadata": {},
     "output_type": "display_data"
    }
   ],
   "source": [
    "# Check the data types\n",
    "display(train_sample.dtypes)\n"
   ]
  },
  {
   "cell_type": "markdown",
   "metadata": {},
   "source": [
    "**Notes:**\n",
    "\n",
    "- *hour* will be converted into *datetime*. the other object columns are mostly related to categorical variables. "
   ]
  },
  {
   "cell_type": "code",
   "execution_count": 72,
   "metadata": {},
   "outputs": [],
   "source": [
    "import datetime\n",
    "\n",
    "def convert_date (x):\n",
    "   try:\n",
    "      return datetime.datetime.strptime(x, '%y%m%d%H')\n",
    "   except:\n",
    "      return x\n",
    "\n",
    "\n",
    "train_sample['hour'] = train_sample['hour'].apply(convert_date)"
   ]
  },
  {
   "cell_type": "markdown",
   "metadata": {},
   "source": [
    "## CTR description\n",
    "\n",
    "This section explores the CTR distribution in relation to main features. The assumption is that by describing the data, some correlations can be visually seen. This will hopefully aid feature engineering task later on. "
   ]
  },
  {
   "cell_type": "code",
   "execution_count": 84,
   "metadata": {
    "ExecuteTime": {
     "end_time": "2019-07-02T07:37:27.520738Z",
     "start_time": "2019-07-02T07:37:22.260876Z"
    }
   },
   "outputs": [
    {
     "name": "stdout",
     "output_type": "stream",
     "text": [
      "Overall CTR: \n"
     ]
    },
    {
     "data": {
      "text/plain": [
       "0    0.83\n",
       "1    0.17\n",
       "Name: click, dtype: float64"
      ]
     },
     "execution_count": 84,
     "metadata": {},
     "output_type": "execute_result"
    }
   ],
   "source": [
    "print(\"Overall CTR: \")\n",
    "round(train_sample.click.value_counts() / train_sample.shape[0], 2)\n",
    "\n",
    "# The overall CTR = ~17%"
   ]
  },
  {
   "cell_type": "markdown",
   "metadata": {
    "ExecuteTime": {
     "end_time": "2019-07-02T07:59:58.009719Z",
     "start_time": "2019-07-02T07:59:53.177791Z"
    }
   },
   "source": [
    "**I hypothesize time in the day is quite important for the final prediction. Ideally, month and day in the month as well as hour is important. These features will be extracted, but the prediction will be based on limited data: 1M records.**"
   ]
  },
  {
   "cell_type": "markdown",
   "metadata": {},
   "source": [
    "### CTR by Hour"
   ]
  },
  {
   "cell_type": "code",
   "execution_count": 97,
   "metadata": {},
   "outputs": [
    {
     "data": {
      "image/png": "[encoded data removed]",
      "text/plain": [
       "<Figure size 1008x504 with 1 Axes>"
      ]
     },
     "metadata": {},
     "output_type": "display_data"
    }
   ],
   "source": [
    "# Based on the sample data, the hourly clicks (timeline) look similar with a few peaks, particularily on the 22nd and 28th of Oct.\n",
    "\n",
    "import seaborn as sns\n",
    "import matplotlib.pyplot as plt\n",
    "\n",
    "train_sample.groupby('hour').agg({'click':'sum'}).plot(figsize=(14,7))\n",
    "plt.ylabel('Number of clicks')\n",
    "plt.title('Number of clicks by hour / time');"
   ]
  },
  {
   "cell_type": "code",
   "execution_count": 116,
   "metadata": {},
   "outputs": [
    {
     "name": "stderr",
     "output_type": "stream",
     "text": [
      "/opt/conda/anaconda/lib/python3.6/site-packages/ipykernel_launcher.py:5: FutureWarning: `weekday_name` is deprecated and will be removed in a future version. Use `day_name` instead\n",
      "  \"\"\"\n"
     ]
    },
    {
     "data": {
      "image/png": "[encoded data removed]",
      "text/plain": [
       "<Figure size 1008x504 with 1 Axes>"
      ]
     },
     "metadata": {},
     "output_type": "display_data"
    }
   ],
   "source": [
    "# The clicks distribution by hour of day looks quite different: Most of the clicks happen around midday and afternoon\n",
    "# with least ones during the night. Business hours is as expected. \n",
    "\n",
    "train_sample['hour_of_day'] = train_sample['hour'].apply(lambda x: x.hour)\n",
    "train_sample['day_name'] = train_sample['hour'].apply(lambda x: x.weekday_name)\n",
    "\n",
    "train_sample.groupby('hour_of_day').agg({'click':'sum'}).plot(figsize=(14,7))\n",
    "plt.ylabel('Number of clicks')\n",
    "plt.title('Number of clicks by hour of day');"
   ]
  },
  {
   "cell_type": "code",
   "execution_count": 117,
   "metadata": {},
   "outputs": [
    {
     "data": {
      "text/plain": [
       "Text(0,0.5,'CTR')"
      ]
     },
     "execution_count": 117,
     "metadata": {},
     "output_type": "execute_result"
    },
    {
     "data": {
      "image/png": "[encoded data removed]",
      "text/plain": [
       "<Figure size 1008x504 with 1 Axes>"
      ]
     },
     "metadata": {},
     "output_type": "display_data"
    }
   ],
   "source": [
    "# There is consistency in terms of CTR by hour of the day with surprinsingly the highest value at hour 1am. \n",
    "\n",
    "def calculate_ctr(clicks):\n",
    "    ctr = sum(clicks) / len(clicks)\n",
    "    return ctr\n",
    "\n",
    "train_sample.groupby('hour_of_day').agg({'click':calculate_ctr}).plot(kind='bar', figsize=(14,7))\n",
    "plt.title('CTR by hour of day')\n",
    "plt.ylabel('CTR')\n",
    "    "
   ]
  },
  {
   "cell_type": "code",
   "execution_count": 121,
   "metadata": {
    "scrolled": false
   },
   "outputs": [
    {
     "data": {
      "text/plain": [
       "Text(0,0.5,'CTR')"
      ]
     },
     "execution_count": 121,
     "metadata": {},
     "output_type": "execute_result"
    },
    {
     "data": {
      "image/png": "[encoded data removed]",
      "text/plain": [
       "<Figure size 1008x504 with 1 Axes>"
      ]
     },
     "metadata": {},
     "output_type": "display_data"
    }
   ],
   "source": [
    "# The CTR is also consistent by day of the week, with weekend days having the highest values. \n",
    "\n",
    "train_sample.groupby('day_name').agg({'click':calculate_ctr}).plot(kind='bar', figsize=(14,7))\n",
    "plt.title('CTR by day of the week')\n",
    "plt.ylabel('CTR')\n"
   ]
  },
  {
   "cell_type": "markdown",
   "metadata": {},
   "source": [
    "### CTR by other features - INTERACTIVE\n",
    "\n",
    "\n",
    "**Notes:**\n",
    "\n",
    "- below you can see top 20 categories with most impressions and related CTR scores. \n",
    "\n",
    "---\n",
    "\n",
    "\n",
    "\n",
    "- **C1** categorical data shows that value 1002 has the higest CTR rate, but 92% of the values in this column are 1005. Adding more adds on value 1002 looks sensible. \n",
    "- 72% of the **banner position** is at position 0, but this does not relate to the highest CTR score. Pos 7 has the highest CTR score. Increasing the number of ads placed on banner position 7 seems to be a good idea.\n",
    "- the **site feateures** shows various distribution as related to the CTR score with some scores very high (i.e. 70%)\n",
    "- **device**\n",
    "    - 82% of the impressions are seen on one device id (a99f214a), but most of the converting ads are not on this device id. \n",
    "    - there are ~0.5M unique device ip and only a few with high CTR score --> this will be rm from the training data. \n",
    "    - device model CTR distribution is quite varied \n",
    "    - device type 1 has the most ads shown but this is 2nd in terms of CTR score. \n",
    "- the **app features** show various CTR distributions.    \n",
    "- **categorical features C14-C21** show various distribution. If the number of unique values is generally high, then the count distribution is long. \n",
    "    - ~47% of the C20 feature is classed as -1 which may be missing. "
   ]
  },
  {
   "cell_type": "code",
   "execution_count": 155,
   "metadata": {},
   "outputs": [
    {
     "data": {
      "application/vnd.jupyter.widget-view+json": {
       "model_id": "bb928563871a4fe1babcb5478ddf935e",
       "version_major": 2,
       "version_minor": 0
      },
      "text/plain": [
       "interactive(children=(Dropdown(description='column', options=('click', 'hour', 'C1', 'banner_pos', 'site_id', …"
      ]
     },
     "metadata": {},
     "output_type": "display_data"
    }
   ],
   "source": [
    "\n",
    "from __future__ import print_function\n",
    "from ipywidgets import interact, interactive, fixed, interact_manual\n",
    "import ipywidgets as widgets\n",
    "\n",
    "def plot_CTR(column):\n",
    "    total_values = len(train_sample[column].unique())\n",
    "    print(\"There are {} unique values in {}.\\n\".format(total_values, column))\n",
    "    \n",
    "    values = train_sample[column].value_counts()/len(train_sample)\n",
    "    print(\"% of value in the whole feature\")\n",
    "    display(values.head(20))\n",
    "\n",
    "    train_sample.groupby(column).agg({'click':calculate_ctr}).head(20).plot(kind='bar', figsize=(14,7))\n",
    "    title = \"CTR by \" + str(column)\n",
    "    plt.title(title)\n",
    "    plt.ylabel('CTR')\n",
    "    \n",
    "\n",
    "interact(plot_CTR, column=train_sample.columns);    "
   ]
  },
  {
   "cell_type": "markdown",
   "metadata": {},
   "source": [
    "## Feature selection \n",
    "\n",
    "- The *id* was previously removed. The *hour* will also be removed as it was converted into hour of day and day of the week. \n",
    "- Even though some features come as int64 type, all features will be treated as categorical. In some cases the unique values of the features is very high (i.e. device ip - 0.5M) which may need to be reduced for computation speed. \n"
   ]
  },
  {
   "cell_type": "code",
   "execution_count": 159,
   "metadata": {},
   "outputs": [
    {
     "data": {
      "text/plain": [
       "click                int64\n",
       "C1                   int64\n",
       "banner_pos           int64\n",
       "site_id             object\n",
       "site_domain         object\n",
       "site_category       object\n",
       "app_id              object\n",
       "app_domain          object\n",
       "app_category        object\n",
       "device_id           object\n",
       "device_ip           object\n",
       "device_model        object\n",
       "device_type          int64\n",
       "device_conn_type     int64\n",
       "C14                  int64\n",
       "C15                  int64\n",
       "C16                  int64\n",
       "C17                  int64\n",
       "C18                  int64\n",
       "C19                  int64\n",
       "C20                  int64\n",
       "C21                  int64\n",
       "hour_of_day          int64\n",
       "day_name            object\n",
       "dtype: object"
      ]
     },
     "execution_count": 159,
     "metadata": {},
     "output_type": "execute_result"
    }
   ],
   "source": [
    "# train_sample.drop('hour', axis=1, inplace=True)\n",
    "\n",
    "train_sample.dtypes"
   ]
  },
  {
   "cell_type": "code",
   "execution_count": null,
   "metadata": {},
   "outputs": [],
   "source": []
  },
  {
   "cell_type": "code",
   "execution_count": null,
   "metadata": {},
   "outputs": [],
   "source": []
  },
  {
   "cell_type": "code",
   "execution_count": null,
   "metadata": {},
   "outputs": [],
   "source": []
  },
  {
   "cell_type": "code",
   "execution_count": null,
   "metadata": {},
   "outputs": [],
   "source": []
  },
  {
   "cell_type": "code",
   "execution_count": null,
   "metadata": {},
   "outputs": [],
   "source": [
    "\n",
    "\n",
    "\n",
    "\n",
    "\n",
    "\n"
   ]
  }
 ],
 "metadata": {
  "kernelspec": {
   "display_name": "Python 3",
   "language": "python",
   "name": "python3"
  },
  "language_info": {
   "codemirror_mode": {
    "name": "ipython",
    "version": 3
   },
   "file_extension": ".py",
   "mimetype": "text/x-python",
   "name": "python",
   "nbconvert_exporter": "python",
   "pygments_lexer": "ipython3",
   "version": "3.6.5"
  },
  "toc": {
   "base_numbering": 1,
   "nav_menu": {},
   "number_sections": false,
   "sideBar": true,
   "skip_h1_title": false,
   "title_cell": "Table of Contents",
   "title_sidebar": "Contents",
   "toc_cell": false,
   "toc_position": {
    "height": "calc(100% - 180px)",
    "left": "10px",
    "top": "150px",
    "width": "204px"
   },
   "toc_section_display": true,
   "toc_window_display": true
  },
  "varInspector": {
   "cols": {
    "lenName": 16,
    "lenType": 16,
    "lenVar": 40
   },
   "kernels_config": {
    "python": {
     "delete_cmd_postfix": "",
     "delete_cmd_prefix": "del ",
     "library": "var_list.py",
     "varRefreshCmd": "print(var_dic_list())"
    },
    "r": {
     "delete_cmd_postfix": ") ",
     "delete_cmd_prefix": "rm(",
     "library": "var_list.r",
     "varRefreshCmd": "cat(var_dic_list()) "
    }
   },
   "types_to_exclude": [
    "module",
    "function",
    "builtin_function_or_method",
    "instance",
    "_Feature"
   ],
   "window_display": false
  }
 },
 "nbformat": 4,
 "nbformat_minor": 2
}