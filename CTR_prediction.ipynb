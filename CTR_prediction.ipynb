{
 "cells": [
  {
   "cell_type": "markdown",
   "metadata": {},
   "source": [
    "# Challenge \n",
    "\n",
    "\n",
    "We expect you to: \n",
    "  - finish the test in 2-3 hours\n",
    "  - return the results in 1 week but the sooner the better\n",
    "  - build an end-to-end pipeline for the task\n",
    "  - showcase your understanding of various aspects of ML: ETL, model building and selection, evaluation, etc.\n",
    "  - develop in python (jupyter notebooks) with reasonable comments\n",
    "  - use version control with appropriate commit messages\n",
    "\n",
    "The test is about building a CTR prediction model with one of the datasets:\n",
    "  - https://www.kaggle.com/c/online-advertising-challenge-spring-2018\n",
    "  - https://www.kaggle.com/c/avazu-ctr-prediction\n",
    "  - https://www.kaggle.com/c/talkingdata-adtracking-fraud-detection\n",
    "  - https://www.kaggle.com/c/criteo-display-ad-challenge"
   ]
  },
  {
   "cell_type": "markdown",
   "metadata": {},
   "source": [
    "# Data \n",
    "\n",
    "For this exercise [Avazu dataset](https://www.kaggle.com/c/avazu-ctr-prediction/overview) is used. There is no particular reason for choosing one dataset over another. \n",
    "\n",
    "Data was downloaded from the link above and saved into the `data` folder. After decompressing, the files were renamed to *csv* extension. Please refer to the link for more data description. "
   ]
  },
  {
   "cell_type": "code",
   "execution_count": 29,
   "metadata": {
    "ExecuteTime": {
     "end_time": "2019-07-01T20:36:08.363757Z",
     "start_time": "2019-07-01T20:36:08.210550Z"
    }
   },
   "outputs": [
    {
     "name": "stdout",
     "output_type": "stream",
     "text": [
      "id,click,hour,C1,banner_pos,site_id,site_domain,site_category,app_id,app_domain,app_category,device_id,device_ip,device_model,device_type,device_conn_type,C14,C15,C16,C17,C18,C19,C20,C21\r",
      "\r\n",
      "1000009418151094273,0,14102100,1005,0,1fbe01fe,f3845767,28905ebd,ecad2386,7801e8d9,07d7df22,a99f214a,ddd2926e,44956a24,1,2,15706,320,50,1722,0,35,-1,79\r",
      "\r\n",
      "10000169349117863715,0,14102100,1005,0,1fbe01fe,f3845767,28905ebd,ecad2386,7801e8d9,07d7df22,a99f214a,96809ac8,711ee120,1,0,15704,320,50,1722,0,35,100084,79\r",
      "\r\n",
      "10000371904215119486,0,14102100,1005,0,1fbe01fe,f3845767,28905ebd,ecad2386,7801e8d9,07d7df22,a99f214a,b3cf8def,8a4875bd,1,0,15704,320,50,1722,0,35,100084,79\r",
      "\r\n",
      "10000640724480838376,0,14102100,1005,0,1fbe01fe,f3845767,28905ebd,ecad2386,7801e8d9,07d7df22,a99f214a,e8275b8f,6332421a,1,0,15706,320,50,1722,0,35,100084,79\r",
      "\r\n",
      "10000679056417042096,0,14102100,1005,1,fe8cc448,9166c161,0569f928,ecad2386,7801e8d9,07d7df22,a99f214a,9644d0bf,779d90c2,1,0,18993,320,50,2161,0,35,-1,157\r",
      "\r\n",
      "10000720757801103869,0,14102100,1005,0,d6137915,bb1ef334,f028772b,ecad2386,7801e8d9,07d7df22,a99f214a,05241af0,8a4875bd,1,0,16920,320,50,1899,0,431,100077,117\r",
      "\r\n",
      "10000724729988544911,0,14102100,1005,0,8fda644b,25d4cfcd,f028772b,ecad2386,7801e8d9,07d7df22,a99f214a,b264c159,be6db1d7,1,0,20362,320,50,2333,0,39,-1,157\r",
      "\r\n",
      "10000918755742328737,0,14102100,1005,1,e151e245,7e091613,f028772b,ecad2386,7801e8d9,07d7df22,a99f214a,e6f67278,be74e6fe,1,0,20632,320,50,2374,3,39,-1,23\r",
      "\r\n",
      "10000949271186029916,1,14102100,1005,0,1fbe01fe,f3845767,28905ebd,ecad2386,7801e8d9,07d7df22,a99f214a,37e8da74,5db079b5,1,2,15707,320,50,1722,0,35,-1,79\r",
      "\r\n"
     ]
    }
   ],
   "source": [
    "! head ./data/avazu-ctr-prediction/train.csv"
   ]
  },
  {
   "cell_type": "code",
   "execution_count": 30,
   "metadata": {
    "ExecuteTime": {
     "end_time": "2019-07-01T20:25:25.689929Z",
     "start_time": "2019-07-01T20:23:08.166387Z"
    },
    "scrolled": false
   },
   "outputs": [
    {
     "name": "stdout",
     "output_type": "stream",
     "text": [
      "train shape = (40428967, 24)\n",
      "test shape = (4577464, 23)\n"
     ]
    },
    {
     "data": {
      "text/html": [
       "<div>\n",
       "<style scoped>\n",
       "    .dataframe tbody tr th:only-of-type {\n",
       "        vertical-align: middle;\n",
       "    }\n",
       "\n",
       "    .dataframe tbody tr th {\n",
       "        vertical-align: top;\n",
       "    }\n",
       "\n",
       "    .dataframe thead th {\n",
       "        text-align: right;\n",
       "    }\n",
       "</style>\n",
       "<table border=\"1\" class=\"dataframe\">\n",
       "  <thead>\n",
       "    <tr style=\"text-align: right;\">\n",
       "      <th></th>\n",
       "      <th>id</th>\n",
       "      <th>click</th>\n",
       "      <th>hour</th>\n",
       "      <th>C1</th>\n",
       "      <th>banner_pos</th>\n",
       "      <th>site_id</th>\n",
       "      <th>site_domain</th>\n",
       "      <th>site_category</th>\n",
       "      <th>app_id</th>\n",
       "      <th>app_domain</th>\n",
       "      <th>...</th>\n",
       "      <th>device_type</th>\n",
       "      <th>device_conn_type</th>\n",
       "      <th>C14</th>\n",
       "      <th>C15</th>\n",
       "      <th>C16</th>\n",
       "      <th>C17</th>\n",
       "      <th>C18</th>\n",
       "      <th>C19</th>\n",
       "      <th>C20</th>\n",
       "      <th>C21</th>\n",
       "    </tr>\n",
       "  </thead>\n",
       "  <tbody>\n",
       "    <tr>\n",
       "      <th>0</th>\n",
       "      <td>1.000009e+18</td>\n",
       "      <td>0</td>\n",
       "      <td>14102100</td>\n",
       "      <td>1005</td>\n",
       "      <td>0</td>\n",
       "      <td>1fbe01fe</td>\n",
       "      <td>f3845767</td>\n",
       "      <td>28905ebd</td>\n",
       "      <td>ecad2386</td>\n",
       "      <td>7801e8d9</td>\n",
       "      <td>...</td>\n",
       "      <td>1</td>\n",
       "      <td>2</td>\n",
       "      <td>15706</td>\n",
       "      <td>320</td>\n",
       "      <td>50</td>\n",
       "      <td>1722</td>\n",
       "      <td>0</td>\n",
       "      <td>35</td>\n",
       "      <td>-1</td>\n",
       "      <td>79</td>\n",
       "    </tr>\n",
       "    <tr>\n",
       "      <th>1</th>\n",
       "      <td>1.000017e+19</td>\n",
       "      <td>0</td>\n",
       "      <td>14102100</td>\n",
       "      <td>1005</td>\n",
       "      <td>0</td>\n",
       "      <td>1fbe01fe</td>\n",
       "      <td>f3845767</td>\n",
       "      <td>28905ebd</td>\n",
       "      <td>ecad2386</td>\n",
       "      <td>7801e8d9</td>\n",
       "      <td>...</td>\n",
       "      <td>1</td>\n",
       "      <td>0</td>\n",
       "      <td>15704</td>\n",
       "      <td>320</td>\n",
       "      <td>50</td>\n",
       "      <td>1722</td>\n",
       "      <td>0</td>\n",
       "      <td>35</td>\n",
       "      <td>100084</td>\n",
       "      <td>79</td>\n",
       "    </tr>\n",
       "    <tr>\n",
       "      <th>2</th>\n",
       "      <td>1.000037e+19</td>\n",
       "      <td>0</td>\n",
       "      <td>14102100</td>\n",
       "      <td>1005</td>\n",
       "      <td>0</td>\n",
       "      <td>1fbe01fe</td>\n",
       "      <td>f3845767</td>\n",
       "      <td>28905ebd</td>\n",
       "      <td>ecad2386</td>\n",
       "      <td>7801e8d9</td>\n",
       "      <td>...</td>\n",
       "      <td>1</td>\n",
       "      <td>0</td>\n",
       "      <td>15704</td>\n",
       "      <td>320</td>\n",
       "      <td>50</td>\n",
       "      <td>1722</td>\n",
       "      <td>0</td>\n",
       "      <td>35</td>\n",
       "      <td>100084</td>\n",
       "      <td>79</td>\n",
       "    </tr>\n",
       "    <tr>\n",
       "      <th>3</th>\n",
       "      <td>1.000064e+19</td>\n",
       "      <td>0</td>\n",
       "      <td>14102100</td>\n",
       "      <td>1005</td>\n",
       "      <td>0</td>\n",
       "      <td>1fbe01fe</td>\n",
       "      <td>f3845767</td>\n",
       "      <td>28905ebd</td>\n",
       "      <td>ecad2386</td>\n",
       "      <td>7801e8d9</td>\n",
       "      <td>...</td>\n",
       "      <td>1</td>\n",
       "      <td>0</td>\n",
       "      <td>15706</td>\n",
       "      <td>320</td>\n",
       "      <td>50</td>\n",
       "      <td>1722</td>\n",
       "      <td>0</td>\n",
       "      <td>35</td>\n",
       "      <td>100084</td>\n",
       "      <td>79</td>\n",
       "    </tr>\n",
       "    <tr>\n",
       "      <th>4</th>\n",
       "      <td>1.000068e+19</td>\n",
       "      <td>0</td>\n",
       "      <td>14102100</td>\n",
       "      <td>1005</td>\n",
       "      <td>1</td>\n",
       "      <td>fe8cc448</td>\n",
       "      <td>9166c161</td>\n",
       "      <td>0569f928</td>\n",
       "      <td>ecad2386</td>\n",
       "      <td>7801e8d9</td>\n",
       "      <td>...</td>\n",
       "      <td>1</td>\n",
       "      <td>0</td>\n",
       "      <td>18993</td>\n",
       "      <td>320</td>\n",
       "      <td>50</td>\n",
       "      <td>2161</td>\n",
       "      <td>0</td>\n",
       "      <td>35</td>\n",
       "      <td>-1</td>\n",
       "      <td>157</td>\n",
       "    </tr>\n",
       "  </tbody>\n",
       "</table>\n",
       "<p>5 rows × 24 columns</p>\n",
       "</div>"
      ],
      "text/plain": [
       "             id  click      hour    C1  banner_pos   site_id site_domain  \\\n",
       "0  1.000009e+18      0  14102100  1005           0  1fbe01fe    f3845767   \n",
       "1  1.000017e+19      0  14102100  1005           0  1fbe01fe    f3845767   \n",
       "2  1.000037e+19      0  14102100  1005           0  1fbe01fe    f3845767   \n",
       "3  1.000064e+19      0  14102100  1005           0  1fbe01fe    f3845767   \n",
       "4  1.000068e+19      0  14102100  1005           1  fe8cc448    9166c161   \n",
       "\n",
       "  site_category    app_id app_domain ...  device_type device_conn_type    C14  \\\n",
       "0      28905ebd  ecad2386   7801e8d9 ...            1                2  15706   \n",
       "1      28905ebd  ecad2386   7801e8d9 ...            1                0  15704   \n",
       "2      28905ebd  ecad2386   7801e8d9 ...            1                0  15704   \n",
       "3      28905ebd  ecad2386   7801e8d9 ...            1                0  15706   \n",
       "4      0569f928  ecad2386   7801e8d9 ...            1                0  18993   \n",
       "\n",
       "   C15  C16   C17  C18  C19     C20  C21  \n",
       "0  320   50  1722    0   35      -1   79  \n",
       "1  320   50  1722    0   35  100084   79  \n",
       "2  320   50  1722    0   35  100084   79  \n",
       "3  320   50  1722    0   35  100084   79  \n",
       "4  320   50  2161    0   35      -1  157  \n",
       "\n",
       "[5 rows x 24 columns]"
      ]
     },
     "metadata": {},
     "output_type": "display_data"
    }
   ],
   "source": [
    "# Reading the data with Dask - in parallel \n",
    "import dask.dataframe as dd\n",
    "\n",
    "# Define schema dict; this will force schema when reding data. \n",
    "dict_schema = {'id': 'float64'}\n",
    "\n",
    "train = dd.read_csv(urlpath='./data/avazu-ctr-prediction/train.csv', dtype = dict_schema)\n",
    "test = dd.read_csv(urlpath='./data/avazu-ctr-prediction/test.csv', dtype = dict_schema)\n",
    "\n",
    "# print data head and shape\n",
    "print('train shape = {}'.format(train.compute().shape))\n",
    "print('test shape = {}'.format(test.compute().shape))\n",
    "\n",
    "display(train.head())"
   ]
  },
  {
   "cell_type": "code",
   "execution_count": 31,
   "metadata": {
    "ExecuteTime": {
     "end_time": "2019-07-01T20:27:14.182695Z",
     "start_time": "2019-07-01T20:27:14.178638Z"
    }
   },
   "outputs": [
    {
     "data": {
      "text/plain": [
       "Index(['id', 'click', 'hour', 'C1', 'banner_pos', 'site_id', 'site_domain',\n",
       "       'site_category', 'app_id', 'app_domain', 'app_category', 'device_id',\n",
       "       'device_ip', 'device_model', 'device_type', 'device_conn_type', 'C14',\n",
       "       'C15', 'C16', 'C17', 'C18', 'C19', 'C20', 'C21'],\n",
       "      dtype='object')"
      ]
     },
     "execution_count": 31,
     "metadata": {},
     "output_type": "execute_result"
    }
   ],
   "source": [
    "train.columns"
   ]
  },
  {
   "cell_type": "code",
   "execution_count": 32,
   "metadata": {
    "ExecuteTime": {
     "end_time": "2019-07-01T20:27:20.144731Z",
     "start_time": "2019-07-01T20:27:20.141247Z"
    }
   },
   "outputs": [
    {
     "data": {
      "text/plain": [
       "Index(['id', 'hour', 'C1', 'banner_pos', 'site_id', 'site_domain',\n",
       "       'site_category', 'app_id', 'app_domain', 'app_category', 'device_id',\n",
       "       'device_ip', 'device_model', 'device_type', 'device_conn_type', 'C14',\n",
       "       'C15', 'C16', 'C17', 'C18', 'C19', 'C20', 'C21'],\n",
       "      dtype='object')"
      ]
     },
     "execution_count": 32,
     "metadata": {},
     "output_type": "execute_result"
    }
   ],
   "source": [
    "test.columns"
   ]
  },
  {
   "cell_type": "code",
   "execution_count": 33,
   "metadata": {
    "ExecuteTime": {
     "end_time": "2019-07-01T20:31:51.467815Z",
     "start_time": "2019-07-01T20:31:51.463985Z"
    }
   },
   "outputs": [
    {
     "data": {
      "text/plain": [
       "dask.dataframe.core.DataFrame"
      ]
     },
     "execution_count": 33,
     "metadata": {},
     "output_type": "execute_result"
    }
   ],
   "source": [
    "type(train)"
   ]
  },
  {
   "cell_type": "markdown",
   "metadata": {},
   "source": [
    "**NOTE**\n",
    "\n",
    "**This dataset appears to be big enough to not accommodate light ML training on local machine. In this context, I will limit the analysis to 1M observations in the training dataset and the respective about 2.5% in the testing dataset.**\n",
    "\n",
    "**This is a limitation when it comes to the accuracy of the model. I assume the task is not necessarily concerned with accuracy (even though this is important), but rather with building end to end ML and feature engineering. Having said that, I can certainly use the cloud for more computing resources, but this is not explored here.**"
   ]
  },
  {
   "cell_type": "code",
   "execution_count": 35,
   "metadata": {
    "ExecuteTime": {
     "end_time": "2019-07-01T20:58:31.314171Z",
     "start_time": "2019-07-01T20:56:47.252179Z"
    }
   },
   "outputs": [],
   "source": [
    "# Sample the data and save to disk\n",
    "sample_fraction = 0.025\n",
    "train_sample = train.sample(frac=sample_fraction)\n",
    "train_sample.compute().to_csv('./data/avazu-ctr-prediction/train_sample.csv', index = None)\n",
    "\n",
    "test_sample = test.sample(frac=sample_fraction)\n",
    "test_sample.compute().to_csv('./data/avazu-ctr-prediction/test_sample.csv', index = None)"
   ]
  },
  {
   "cell_type": "code",
   "execution_count": 1,
   "metadata": {
    "ExecuteTime": {
     "end_time": "2019-07-02T07:37:21.229556Z",
     "start_time": "2019-07-02T07:37:20.234104Z"
    }
   },
   "outputs": [
    {
     "name": "stdout",
     "output_type": "stream",
     "text": [
      "train sample shape = (1010725, 24)\n",
      "test sample shape = (114436, 23)\n"
     ]
    }
   ],
   "source": [
    "# Reading the data back -- not needed now; just in case you start fresh. \n",
    "\n",
    "# Reading the data with Dask - in parallel \n",
    "import dask.dataframe as dd\n",
    "dict_schema = {'id': 'float64', 'hour': 'object'}\n",
    "\n",
    "train_sample = dd.read_csv(urlpath='./data/avazu-ctr-prediction/train_sample.csv', dtype = dict_schema).compute()\n",
    "test_sample = dd.read_csv(urlpath='./data/avazu-ctr-prediction/test_sample.csv', dtype = dict_schema).compute()\n",
    "\n",
    "print('train sample shape = {}'.format(train_sample.shape))\n",
    "print('test sample shape = {}'.format(test_sample.shape))"
   ]
  },
  {
   "cell_type": "markdown",
   "metadata": {
    "ExecuteTime": {
     "end_time": "2019-07-01T20:59:29.434287Z",
     "start_time": "2019-07-01T20:59:29.392516Z"
    },
    "scrolled": true
   },
   "source": [
    "# Data Exploration\n",
    "\n",
    "The aim of this section is not to conduct an intensive EDA (this was addressed in previous exercise), but to explore feature distribution and how it relates to the CTR. \n"
   ]
  },
  {
   "cell_type": "code",
   "execution_count": 2,
   "metadata": {
    "ExecuteTime": {
     "end_time": "2019-07-02T07:58:21.555703Z",
     "start_time": "2019-07-02T07:58:21.545677Z"
    }
   },
   "outputs": [
    {
     "data": {
      "text/plain": [
       "id                  float64\n",
       "click                 int64\n",
       "hour                 object\n",
       "C1                    int64\n",
       "banner_pos            int64\n",
       "site_id              object\n",
       "site_domain          object\n",
       "site_category        object\n",
       "app_id               object\n",
       "app_domain           object\n",
       "app_category         object\n",
       "device_id            object\n",
       "device_ip            object\n",
       "device_model         object\n",
       "device_type           int64\n",
       "device_conn_type      int64\n",
       "C14                   int64\n",
       "C15                   int64\n",
       "C16                   int64\n",
       "C17                   int64\n",
       "C18                   int64\n",
       "C19                   int64\n",
       "C20                   int64\n",
       "C21                   int64\n",
       "dtype: object"
      ]
     },
     "metadata": {},
     "output_type": "display_data"
    }
   ],
   "source": [
    "# Check the data types\n",
    "display(train_sample.dtypes)\n"
   ]
  },
  {
   "cell_type": "markdown",
   "metadata": {},
   "source": [
    "**Notes:**\n",
    "\n",
    "- *hour* will be converted into *datetime*. the other object columns are mostly related to categorical variables. "
   ]
  },
  {
   "cell_type": "code",
   "execution_count": 3,
   "metadata": {},
   "outputs": [],
   "source": [
    "import datetime\n",
    "\n",
    "def convert_date (x):\n",
    "   try:\n",
    "      return datetime.datetime.strptime(x, '%y%m%d%H')\n",
    "   except:\n",
    "      return x\n",
    "\n",
    "\n",
    "train_sample['hour'] = train_sample['hour'].apply(convert_date)\n",
    "test_sample['hour'] = test_sample['hour'].apply(convert_date)"
   ]
  },
  {
   "cell_type": "markdown",
   "metadata": {},
   "source": [
    "## CTR description\n",
    "\n",
    "This section explores the CTR distribution in relation to main features. The assumption is that by describing the data, some correlations can be visually seen. This will hopefully aid feature engineering task later on. "
   ]
  },
  {
   "cell_type": "code",
   "execution_count": 4,
   "metadata": {
    "ExecuteTime": {
     "end_time": "2019-07-02T07:37:27.520738Z",
     "start_time": "2019-07-02T07:37:22.260876Z"
    }
   },
   "outputs": [
    {
     "name": "stdout",
     "output_type": "stream",
     "text": [
      "Overall CTR: \n"
     ]
    },
    {
     "data": {
      "text/plain": [
       "0    0.83\n",
       "1    0.17\n",
       "Name: click, dtype: float64"
      ]
     },
     "execution_count": 4,
     "metadata": {},
     "output_type": "execute_result"
    }
   ],
   "source": [
    "print(\"Overall CTR: \")\n",
    "round(train_sample.click.value_counts() / train_sample.shape[0], 2)\n",
    "\n",
    "# The overall CTR = ~17%"
   ]
  },
  {
   "cell_type": "markdown",
   "metadata": {
    "ExecuteTime": {
     "end_time": "2019-07-02T07:59:58.009719Z",
     "start_time": "2019-07-02T07:59:53.177791Z"
    }
   },
   "source": [
    "**I hypothesize time in the day is quite important for the final prediction. Ideally, month and day in the month as well as hour is important. These features will be extracted, but the prediction will be based on limited data: 1M records.**"
   ]
  },
  {
   "cell_type": "markdown",
   "metadata": {},
   "source": [
    "### CTR by Hour"
   ]
  },
  {
   "cell_type": "code",
   "execution_count": 5,
   "metadata": {},
   "outputs": [],
   "source": [
    "# Based on the sample data, the hourly clicks (timeline) look similar with a few peaks, particularily on the 22nd and 28th of Oct.\n",
    "\n",
    "import seaborn as sns\n",
    "import matplotlib.pyplot as plt\n",
    "\n",
    "train_sample.groupby('hour').agg({'click':'sum'}).plot(figsize=(14,7))\n",
    "plt.ylabel('Number of clicks')\n",
    "plt.title('Number of clicks by hour / time');"
   ]
  },
  {
   "cell_type": "code",
   "execution_count": 6,
   "metadata": {},
   "outputs": [
    {
     "name": "stderr",
     "output_type": "stream",
     "text": [
      "/opt/conda/anaconda/lib/python3.6/site-packages/ipykernel_launcher.py:5: FutureWarning: `weekday_name` is deprecated and will be removed in a future version. Use `day_name` instead\n",
      "  \"\"\"\n",
      "/opt/conda/anaconda/lib/python3.6/site-packages/ipykernel_launcher.py:8: FutureWarning: `weekday_name` is deprecated and will be removed in a future version. Use `day_name` instead\n",
      "  \n"
     ]
    },
    {
     "data": {
      "image/png": "[encoded data removed]",
      "text/plain": [
       "<Figure size 1008x504 with 1 Axes>"
      ]
     },
     "metadata": {},
     "output_type": "display_data"
    }
   ],
   "source": [
    "# The clicks distribution by hour of day looks quite different: Most of the clicks happen around midday and afternoon\n",
    "# with least ones during the night. Business hours is as expected. \n",
    "\n",
    "train_sample['hour_of_day'] = train_sample['hour'].apply(lambda x: x.hour)\n",
    "train_sample['day_name'] = train_sample['hour'].apply(lambda x: x.weekday_name)\n",
    "\n",
    "test_sample['hour_of_day'] = test_sample['hour'].apply(lambda x: x.hour)\n",
    "test_sample['day_name'] = test_sample['hour'].apply(lambda x: x.weekday_name)\n",
    "\n",
    "train_sample.groupby('hour_of_day').agg({'click':'sum'}).plot(figsize=(14,7))\n",
    "plt.ylabel('Number of clicks')\n",
    "plt.title('Number of clicks by hour of day');"
   ]
  },
  {
   "cell_type": "code",
   "execution_count": 7,
   "metadata": {},
   "outputs": [
    {
     "data": {
      "text/plain": [
       "Text(0,0.5,'CTR')"
      ]
     },
     "execution_count": 7,
     "metadata": {},
     "output_type": "execute_result"
    },
    {
     "data": {
      "image/png": "[encoded data removed]",
      "text/plain": [
       "<Figure size 1008x504 with 1 Axes>"
      ]
     },
     "metadata": {},
     "output_type": "display_data"
    }
   ],
   "source": [
    "# There is consistency in terms of CTR by hour of the day with surprinsingly the highest value at hour 1am. \n",
    "\n",
    "def calculate_ctr(clicks):\n",
    "    ctr = sum(clicks) / len(clicks)\n",
    "    return ctr\n",
    "\n",
    "train_sample.groupby('hour_of_day').agg({'click':calculate_ctr}).plot(kind='bar', figsize=(14,7))\n",
    "plt.title('CTR by hour of day')\n",
    "plt.ylabel('CTR')\n",
    "    "
   ]
  },
  {
   "cell_type": "code",
   "execution_count": 8,
   "metadata": {
    "scrolled": false
   },
   "outputs": [
    {
     "data": {
      "text/plain": [
       "Text(0,0.5,'CTR')"
      ]
     },
     "execution_count": 8,
     "metadata": {},
     "output_type": "execute_result"
    },
    {
     "data": {
      "image/png": "[encoded data removed]",
      "text/plain": [
       "<Figure size 1008x504 with 1 Axes>"
      ]
     },
     "metadata": {},
     "output_type": "display_data"
    }
   ],
   "source": [
    "# The CTR is also consistent by day of the week, with weekend days having the highest values. \n",
    "\n",
    "train_sample.groupby('day_name').agg({'click':calculate_ctr}).plot(kind='bar', figsize=(14,7))\n",
    "plt.title('CTR by day of the week')\n",
    "plt.ylabel('CTR')\n"
   ]
  },
  {
   "cell_type": "markdown",
   "metadata": {},
   "source": [
    "### CTR by other features - INTERACTIVE\n",
    "\n",
    "\n",
    "**Notes:**\n",
    "\n",
    "- below you can see top 20 categories with most impressions and related CTR scores. \n",
    "\n",
    "---\n",
    "\n",
    "\n",
    "\n",
    "- **C1** categorical data shows that value 1002 has the higest CTR rate, but 92% of the values in this column are 1005. Adding more adds on value 1002 looks sensible. \n",
    "- 72% of the **banner position** is at position 0, but this does not relate to the highest CTR score. Pos 7 has the highest CTR score. Increasing the number of ads placed on banner position 7 seems to be a good idea.\n",
    "- the **site feateures** shows various distribution as related to the CTR score with some scores very high (i.e. 70%)\n",
    "- **device**\n",
    "    - 82% of the impressions are seen on one device id (a99f214a), but most of the converting ads are not on this device id. \n",
    "    - there are ~0.5M unique device ip and only a few with high CTR score --> this will be rm from the training data. \n",
    "    - device model CTR distribution is quite varied \n",
    "    - device type 1 has the most ads shown but this is 2nd in terms of CTR score. \n",
    "- the **app features** show various CTR distributions.    \n",
    "- **categorical features C14-C21** show various distribution. If the number of unique values is generally high, then the count distribution is long. \n",
    "    - ~47% of the C20 feature is classed as -1 which may be missing. "
   ]
  },
  {
   "cell_type": "code",
   "execution_count": 9,
   "metadata": {},
   "outputs": [
    {
     "data": {
      "application/vnd.jupyter.widget-view+json": {
       "model_id": "95dded6a327c47a3bf8c3841ba356fac",
       "version_major": 2,
       "version_minor": 0
      },
      "text/plain": [
       "interactive(children=(Dropdown(description='column', options=('C1', 'banner_pos', 'site_id', 'site_domain', 's…"
      ]
     },
     "metadata": {},
     "output_type": "display_data"
    }
   ],
   "source": [
    "\n",
    "from __future__ import print_function\n",
    "from ipywidgets import interact, interactive, fixed, interact_manual\n",
    "import ipywidgets as widgets\n",
    "\n",
    "def plot_CTR(column):\n",
    "    total_values = len(train_sample[column].unique())\n",
    "    print(\"There are {} unique values in {}.\\n\".format(total_values, column))\n",
    "    \n",
    "    values = train_sample[column].value_counts()/len(train_sample)\n",
    "    print(\"% of value in the whole feature\")\n",
    "    display(values.head(20))\n",
    "\n",
    "    train_sample.groupby(column).agg({'click':calculate_ctr}).head(20).plot(kind='bar', figsize=(14,7))\n",
    "    title = \"CTR by \" + str(column)\n",
    "    plt.title(title)\n",
    "    plt.ylabel('CTR')\n",
    "    \n",
    "\n",
    "interact(plot_CTR, column=train_sample.columns[3:]);"
   ]
  },
  {
   "cell_type": "markdown",
   "metadata": {},
   "source": [
    "## Feature selection \n",
    "\n",
    "- The *hour* will also be removed as it was converted into hour of day and day of the week. \n",
    "- the ID is not needed\n",
    "- Even though some features come as int64 type, all features will be treated as categorical. In some cases the unique values of the features is very high (i.e. device ip - 0.5M) which may need to be reduced for computation speed. \n"
   ]
  },
  {
   "cell_type": "code",
   "execution_count": 10,
   "metadata": {},
   "outputs": [],
   "source": [
    "# Rm some features\n",
    "train_sample.drop('id', axis=1, inplace=True)\n",
    "train_sample.drop('device_ip', axis=1, inplace=True)\n",
    "train_sample.drop('hour', axis=1, inplace=True)\n",
    "\n",
    "test_sample.drop('hour', axis=1, inplace=True)\n",
    "test_sample.drop('id', axis=1, inplace=True)\n",
    "\n",
    "train_sample = train_sample.astype('object')\n",
    "test_sample = test_sample.astype('object')\n",
    "\n",
    "train_sample['click'] = train_sample['click'].astype('int64')"
   ]
  },
  {
   "cell_type": "code",
   "execution_count": 11,
   "metadata": {
    "scrolled": false
   },
   "outputs": [
    {
     "data": {
      "text/plain": [
       "device_id           152011\n",
       "device_model          5164\n",
       "app_id                3169\n",
       "site_domain           2886\n",
       "site_id               2652\n",
       "C14                   2251\n",
       "C17                    419\n",
       "app_domain             206\n",
       "C20                    162\n",
       "C19                     66\n",
       "C21                     60\n",
       "app_category            25\n",
       "hour_of_day             24\n",
       "site_category           21\n",
       "C16                      9\n",
       "C15                      8\n",
       "C1                       7\n",
       "banner_pos               7\n",
       "day_name                 7\n",
       "device_type              4\n",
       "device_conn_type         4\n",
       "C18                      4\n",
       "click                    2\n",
       "dtype: int64"
      ]
     },
     "execution_count": 11,
     "metadata": {},
     "output_type": "execute_result"
    }
   ],
   "source": [
    "# Unique values in the features\n",
    "\n",
    "train_sample.apply(lambda x: len(x.unique())).sort_values(ascending=False)"
   ]
  },
  {
   "cell_type": "markdown",
   "metadata": {},
   "source": [
    "# Modelling \n",
    "\n",
    "Test dataset does not have the labels, hence the train dataset will be split into train-test. \n",
    "\n",
    "This ML problem is binomial classification. Randomness would return 50% chance, but will try a logistic model first as a base line and then will go deeper with other models. \n",
    "\n",
    "Normally, it is good practice to start with a small, less complex model and build on that as needed (i.e. better accuracy). \n"
   ]
  },
  {
   "cell_type": "markdown",
   "metadata": {},
   "source": [
    "## Logistic Regression"
   ]
  },
  {
   "cell_type": "code",
   "execution_count": 14,
   "metadata": {},
   "outputs": [
    {
     "name": "stdout",
     "output_type": "stream",
     "text": [
      "Checking whether there is an H2O instance running at http://localhost:54321 ..... not found.\n",
      "Attempting to start a local H2O server...\n",
      "  Java Version: openjdk version \"1.8.0_212\"; OpenJDK Runtime Environment (build 1.8.0_212-8u212-b03-2~deb9u1-b03); OpenJDK 64-Bit Server VM (build 25.212-b03, mixed mode)\n",
      "  Starting server from /opt/conda/anaconda/lib/python3.6/site-packages/h2o/backend/bin/h2o.jar\n",
      "  Ice root: /tmp/tmpiayydtap\n",
      "  JVM stdout: /tmp/tmpiayydtap/h2o_unknownUser_started_from_python.out\n",
      "  JVM stderr: /tmp/tmpiayydtap/h2o_unknownUser_started_from_python.err\n",
      "  Server is running at http://127.0.0.1:54321\n",
      "Connecting to H2O server at http://127.0.0.1:54321 ... successful.\n"
     ]
    },
    {
     "data": {
      "text/html": [
       "<div style=\"overflow:auto\"><table style=\"width:50%\"><tr><td>H2O cluster uptime:</td>\n",
       "<td>02 secs</td></tr>\n",
       "<tr><td>H2O cluster timezone:</td>\n",
       "<td>UTC</td></tr>\n",
       "<tr><td>H2O data parsing timezone:</td>\n",
       "<td>UTC</td></tr>\n",
       "<tr><td>H2O cluster version:</td>\n",
       "<td>3.24.0.5</td></tr>\n",
       "<tr><td>H2O cluster version age:</td>\n",
       "<td>14 days, 6 hours and 50 minutes </td></tr>\n",
       "<tr><td>H2O cluster name:</td>\n",
       "<td>H2O_from_python_unknownUser_xm7ym7</td></tr>\n",
       "<tr><td>H2O cluster total nodes:</td>\n",
       "<td>1</td></tr>\n",
       "<tr><td>H2O cluster free memory:</td>\n",
       "<td>52.44 Gb</td></tr>\n",
       "<tr><td>H2O cluster total cores:</td>\n",
       "<td>16</td></tr>\n",
       "<tr><td>H2O cluster allowed cores:</td>\n",
       "<td>16</td></tr>\n",
       "<tr><td>H2O cluster status:</td>\n",
       "<td>accepting new members, healthy</td></tr>\n",
       "<tr><td>H2O connection url:</td>\n",
       "<td>http://127.0.0.1:54321</td></tr>\n",
       "<tr><td>H2O connection proxy:</td>\n",
       "<td>None</td></tr>\n",
       "<tr><td>H2O internal security:</td>\n",
       "<td>False</td></tr>\n",
       "<tr><td>H2O API Extensions:</td>\n",
       "<td>Amazon S3, XGBoost, Algos, AutoML, Core V3, Core V4</td></tr>\n",
       "<tr><td>Python version:</td>\n",
       "<td>3.6.5 final</td></tr></table></div>"
      ],
      "text/plain": [
       "--------------------------  ---------------------------------------------------\n",
       "H2O cluster uptime:         02 secs\n",
       "H2O cluster timezone:       UTC\n",
       "H2O data parsing timezone:  UTC\n",
       "H2O cluster version:        3.24.0.5\n",
       "H2O cluster version age:    14 days, 6 hours and 50 minutes\n",
       "H2O cluster name:           H2O_from_python_unknownUser_xm7ym7\n",
       "H2O cluster total nodes:    1\n",
       "H2O cluster free memory:    52.44 Gb\n",
       "H2O cluster total cores:    16\n",
       "H2O cluster allowed cores:  16\n",
       "H2O cluster status:         accepting new members, healthy\n",
       "H2O connection url:         http://127.0.0.1:54321\n",
       "H2O connection proxy:\n",
       "H2O internal security:      False\n",
       "H2O API Extensions:         Amazon S3, XGBoost, Algos, AutoML, Core V3, Core V4\n",
       "Python version:             3.6.5 final\n",
       "--------------------------  ---------------------------------------------------"
      ]
     },
     "metadata": {},
     "output_type": "display_data"
    }
   ],
   "source": [
    "import h2o\n",
    "h2o.init(max_mem_size=59)\n",
    "h2o.remove_all() # clean state - in case cluster was already running \n"
   ]
  },
  {
   "cell_type": "code",
   "execution_count": 38,
   "metadata": {
    "scrolled": false
   },
   "outputs": [
    {
     "name": "stdout",
     "output_type": "stream",
     "text": [
      "Parse progress: |█████████████████████████████████████████████████████████| 100%\n"
     ]
    }
   ],
   "source": [
    "# Covert into a h2o dataframe and split into train-val-test; val not used here. \n",
    "df = h2o.H2OFrame(train_sample)\n",
    "df = df.asfactor()\n",
    "df['click'] = df['click'].asnumeric()\n",
    "\n",
    "\n",
    "# Split into train-val-test  \n",
    "train, test, val = df.split_frame(ratios=[0.8, 0.1], seed=42)\n",
    "\n",
    "x_cols = df.col_names[1:]\n",
    "y_cols = df.col_names[0]\n",
    "\n",
    "del df"
   ]
  },
  {
   "cell_type": "code",
   "execution_count": 39,
   "metadata": {
    "scrolled": false
   },
   "outputs": [
    {
     "name": "stdout",
     "output_type": "stream",
     "text": [
      "glm Model Build progress: |███████████████████████████████████████████████| 100%\n"
     ]
    },
    {
     "name": "stderr",
     "output_type": "stream",
     "text": [
      "/opt/conda/anaconda/lib/python3.6/site-packages/h2o/job.py:69: UserWarning: Reached maximum number of iterations 50!\n",
      "  warnings.warn(w)\n"
     ]
    }
   ],
   "source": [
    "\n",
    "# h2o library does categorical cols encoding by default; no need to pre-process this. \n",
    "from h2o.estimators.glm import H2OGeneralizedLinearEstimator\n",
    "glm_model = H2OGeneralizedLinearEstimator(family= \"binomial\", lambda_ = 0)\n",
    "\n",
    "glm_model.train(x_cols, y_cols, training_frame=train)\n"
   ]
  },
  {
   "cell_type": "code",
   "execution_count": 40,
   "metadata": {},
   "outputs": [
    {
     "name": "stdout",
     "output_type": "stream",
     "text": [
      "Coefficients: glm coefficients\n",
      "\n"
     ]
    },
    {
     "data": {
      "text/html": [
       "<div style=\"overflow:auto\"><table style=\"width:50%\"><tr><td><b>names</b></td>\n",
       "<td><b>coefficients</b></td>\n",
       "<td><b>standardized_coefficients</b></td></tr>\n",
       "<tr><td>Intercept</td>\n",
       "<td>-1.6371176</td>\n",
       "<td>-1.6371176</td></tr>\n",
       "<tr><td>device_id.00012342</td>\n",
       "<td>-0.0021669</td>\n",
       "<td>-0.0021669</td></tr>\n",
       "<tr><td>device_id.00017304</td>\n",
       "<td>-0.0026160</td>\n",
       "<td>-0.0026160</td></tr>\n",
       "<tr><td>device_id.0001e84c</td>\n",
       "<td>-0.0019524</td>\n",
       "<td>-0.0019524</td></tr>\n",
       "<tr><td>device_id.0001edc1</td>\n",
       "<td>0.0107231</td>\n",
       "<td>0.0107231</td></tr>\n",
       "<tr><td>---</td>\n",
       "<td>---</td>\n",
       "<td>---</td></tr>\n",
       "<tr><td>device_type.4</td>\n",
       "<td>-0.2488986</td>\n",
       "<td>-0.2488986</td></tr>\n",
       "<tr><td>device_type.5</td>\n",
       "<td>-0.2345488</td>\n",
       "<td>-0.2345488</td></tr>\n",
       "<tr><td>device_conn_type.2</td>\n",
       "<td>0.0039428</td>\n",
       "<td>0.0039428</td></tr>\n",
       "<tr><td>device_conn_type.3</td>\n",
       "<td>0.2108477</td>\n",
       "<td>0.2108477</td></tr>\n",
       "<tr><td>device_conn_type.5</td>\n",
       "<td>-0.3337411</td>\n",
       "<td>-0.3337411</td></tr></table></div>"
      ],
      "text/plain": [
       "names               coefficients            standardized_coefficients\n",
       "------------------  ----------------------  ---------------------------\n",
       "Intercept           -1.6371175681278294     -1.6371175681278294\n",
       "device_id.00012342  -0.002166931293429043   -0.002166931293429043\n",
       "device_id.00017304  -0.0026159935645676032  -0.0026159935645676032\n",
       "device_id.0001e84c  -0.0019523773663487815  -0.0019523773663487815\n",
       "device_id.0001edc1  0.010723131511366243    0.010723131511366243\n",
       "---                 ---                     ---\n",
       "device_type.4       -0.2488986375058777     -0.2488986375058777\n",
       "device_type.5       -0.23454881305335268    -0.23454881305335268\n",
       "device_conn_type.2  0.003942837820367034    0.003942837820367034\n",
       "device_conn_type.3  0.2108476664156818      0.2108476664156818\n",
       "device_conn_type.5  -0.3337410708230017     -0.3337410708230017"
      ]
     },
     "metadata": {},
     "output_type": "display_data"
    },
    {
     "name": "stdout",
     "output_type": "stream",
     "text": [
      "\n",
      "See the whole table with table.as_data_frame()\n"
     ]
    },
    {
     "data": {
      "text/plain": []
     },
     "execution_count": 40,
     "metadata": {},
     "output_type": "execute_result"
    }
   ],
   "source": [
    "# There are more than 170k coefficients and most of them have a very small \n",
    "# value which indicates their contribution to the final output. \n",
    "\n",
    "glm_model._model_json['output']['coefficients_table']\n"
   ]
  },
  {
   "cell_type": "code",
   "execution_count": 41,
   "metadata": {
    "scrolled": false
   },
   "outputs": [
    {
     "name": "stdout",
     "output_type": "stream",
     "text": [
      "Model Details\n",
      "=============\n",
      "H2OGeneralizedLinearEstimator :  Generalized Linear Modeling\n",
      "Model Key:  GLM_model_python_1562136144059_4\n",
      "\n",
      "\n",
      "ModelMetricsBinomialGLM: glm\n",
      "** Reported on train data. **\n",
      "\n",
      "MSE: 0.12547805555073493\n",
      "RMSE: 0.35422881806924594\n",
      "LogLoss: 0.4006226104393255\n",
      "Null degrees of freedom: 808878\n",
      "Residual degrees of freedom: 668539\n",
      "Null deviance: 737778.5287741187\n",
      "Residual deviance: 648110.4330191023\n",
      "AIC: 928790.4330191023\n",
      "AUC: 0.7424314749786858\n",
      "pr_auc: 0.3670140362026127\n",
      "Gini: 0.48486294995737156\n",
      "Confusion Matrix (Act/Pred) for max f1 @ threshold = 0.20294992467112563: \n"
     ]
    },
    {
     "data": {
      "text/html": [
       "<div style=\"overflow:auto\"><table style=\"width:50%\"><tr><td><b></b></td>\n",
       "<td><b>0</b></td>\n",
       "<td><b>1</b></td>\n",
       "<td><b>Error</b></td>\n",
       "<td><b>Rate</b></td></tr>\n",
       "<tr><td>0</td>\n",
       "<td>473407.0</td>\n",
       "<td>197879.0</td>\n",
       "<td>0.2948</td>\n",
       "<td> (197879.0/671286.0)</td></tr>\n",
       "<tr><td>1</td>\n",
       "<td>49293.0</td>\n",
       "<td>88300.0</td>\n",
       "<td>0.3583</td>\n",
       "<td> (49293.0/137593.0)</td></tr>\n",
       "<tr><td>Total</td>\n",
       "<td>522700.0</td>\n",
       "<td>286179.0</td>\n",
       "<td>0.3056</td>\n",
       "<td> (247172.0/808879.0)</td></tr></table></div>"
      ],
      "text/plain": [
       "       0       1       Error    Rate\n",
       "-----  ------  ------  -------  -------------------\n",
       "0      473407  197879  0.2948   (197879.0/671286.0)\n",
       "1      49293   88300   0.3583   (49293.0/137593.0)\n",
       "Total  522700  286179  0.3056   (247172.0/808879.0)"
      ]
     },
     "metadata": {},
     "output_type": "display_data"
    },
    {
     "name": "stdout",
     "output_type": "stream",
     "text": [
      "Maximum Metrics: Maximum metrics at their respective thresholds\n",
      "\n"
     ]
    },
    {
     "data": {
      "text/html": [
       "<div style=\"overflow:auto\"><table style=\"width:50%\"><tr><td><b>metric</b></td>\n",
       "<td><b>threshold</b></td>\n",
       "<td><b>value</b></td>\n",
       "<td><b>idx</b></td></tr>\n",
       "<tr><td>max f1</td>\n",
       "<td>0.2029499</td>\n",
       "<td>0.4167335</td>\n",
       "<td>233.0</td></tr>\n",
       "<tr><td>max f2</td>\n",
       "<td>0.1210701</td>\n",
       "<td>0.5797934</td>\n",
       "<td>297.0</td></tr>\n",
       "<tr><td>max f0point5</td>\n",
       "<td>0.2884220</td>\n",
       "<td>0.3730846</td>\n",
       "<td>168.0</td></tr>\n",
       "<tr><td>max accuracy</td>\n",
       "<td>0.4867221</td>\n",
       "<td>0.8340568</td>\n",
       "<td>75.0</td></tr>\n",
       "<tr><td>max precision</td>\n",
       "<td>0.8339735</td>\n",
       "<td>0.8041958</td>\n",
       "<td>3.0</td></tr>\n",
       "<tr><td>max recall</td>\n",
       "<td>0.0054988</td>\n",
       "<td>1.0</td>\n",
       "<td>399.0</td></tr>\n",
       "<tr><td>max specificity</td>\n",
       "<td>0.8702631</td>\n",
       "<td>0.9999926</td>\n",
       "<td>0.0</td></tr>\n",
       "<tr><td>max absolute_mcc</td>\n",
       "<td>0.1950283</td>\n",
       "<td>0.2732967</td>\n",
       "<td>239.0</td></tr>\n",
       "<tr><td>max min_per_class_accuracy</td>\n",
       "<td>0.1924983</td>\n",
       "<td>0.6753396</td>\n",
       "<td>241.0</td></tr>\n",
       "<tr><td>max mean_per_class_accuracy</td>\n",
       "<td>0.1673894</td>\n",
       "<td>0.6797796</td>\n",
       "<td>261.0</td></tr></table></div>"
      ],
      "text/plain": [
       "metric                       threshold    value     idx\n",
       "---------------------------  -----------  --------  -----\n",
       "max f1                       0.20295      0.416734  233\n",
       "max f2                       0.12107      0.579793  297\n",
       "max f0point5                 0.288422     0.373085  168\n",
       "max accuracy                 0.486722     0.834057  75\n",
       "max precision                0.833974     0.804196  3\n",
       "max recall                   0.00549876   1         399\n",
       "max specificity              0.870263     0.999993  0\n",
       "max absolute_mcc             0.195028     0.273297  239\n",
       "max min_per_class_accuracy   0.192498     0.67534   241\n",
       "max mean_per_class_accuracy  0.167389     0.67978   261"
      ]
     },
     "metadata": {},
     "output_type": "display_data"
    },
    {
     "name": "stdout",
     "output_type": "stream",
     "text": [
      "Gains/Lift Table: Avg response rate: 17.01 %, avg score: 16.97 %\n",
      "\n"
     ]
    },
    {
     "data": {
      "text/html": [
       "<div style=\"overflow:auto\"><table style=\"width:50%\"><tr><td><b></b></td>\n",
       "<td><b>group</b></td>\n",
       "<td><b>cumulative_data_fraction</b></td>\n",
       "<td><b>lower_threshold</b></td>\n",
       "<td><b>lift</b></td>\n",
       "<td><b>cumulative_lift</b></td>\n",
       "<td><b>response_rate</b></td>\n",
       "<td><b>score</b></td>\n",
       "<td><b>cumulative_response_rate</b></td>\n",
       "<td><b>cumulative_score</b></td>\n",
       "<td><b>capture_rate</b></td>\n",
       "<td><b>cumulative_capture_rate</b></td>\n",
       "<td><b>gain</b></td>\n",
       "<td><b>cumulative_gain</b></td></tr>\n",
       "<tr><td></td>\n",
       "<td>1</td>\n",
       "<td>0.0100003</td>\n",
       "<td>0.5984650</td>\n",
       "<td>3.8532937</td>\n",
       "<td>3.8532937</td>\n",
       "<td>0.6554580</td>\n",
       "<td>0.6719018</td>\n",
       "<td>0.6554580</td>\n",
       "<td>0.6719018</td>\n",
       "<td>0.0385339</td>\n",
       "<td>0.0385339</td>\n",
       "<td>285.3293666</td>\n",
       "<td>285.3293666</td></tr>\n",
       "<tr><td></td>\n",
       "<td>2</td>\n",
       "<td>0.0200005</td>\n",
       "<td>0.5093293</td>\n",
       "<td>3.2144696</td>\n",
       "<td>3.5338816</td>\n",
       "<td>0.5467919</td>\n",
       "<td>0.5518939</td>\n",
       "<td>0.6011250</td>\n",
       "<td>0.6118979</td>\n",
       "<td>0.0321455</td>\n",
       "<td>0.0706795</td>\n",
       "<td>221.4469612</td>\n",
       "<td>253.3881639</td></tr>\n",
       "<tr><td></td>\n",
       "<td>3</td>\n",
       "<td>0.0300008</td>\n",
       "<td>0.4515562</td>\n",
       "<td>2.7798658</td>\n",
       "<td>3.2825430</td>\n",
       "<td>0.4728644</td>\n",
       "<td>0.4776402</td>\n",
       "<td>0.5583715</td>\n",
       "<td>0.5671453</td>\n",
       "<td>0.0277994</td>\n",
       "<td>0.0984788</td>\n",
       "<td>177.9865762</td>\n",
       "<td>228.2543014</td></tr>\n",
       "<tr><td></td>\n",
       "<td>4</td>\n",
       "<td>0.0400010</td>\n",
       "<td>0.4181226</td>\n",
       "<td>2.4382875</td>\n",
       "<td>3.0714791</td>\n",
       "<td>0.4147608</td>\n",
       "<td>0.4334505</td>\n",
       "<td>0.5224688</td>\n",
       "<td>0.5337216</td>\n",
       "<td>0.0243835</td>\n",
       "<td>0.1228624</td>\n",
       "<td>143.8287486</td>\n",
       "<td>207.1479132</td></tr>\n",
       "<tr><td></td>\n",
       "<td>5</td>\n",
       "<td>0.0500001</td>\n",
       "<td>0.3952205</td>\n",
       "<td>2.3361028</td>\n",
       "<td>2.9244184</td>\n",
       "<td>0.3973788</td>\n",
       "<td>0.4062390</td>\n",
       "<td>0.4974533</td>\n",
       "<td>0.5082276</td>\n",
       "<td>0.0233587</td>\n",
       "<td>0.1462211</td>\n",
       "<td>133.6102803</td>\n",
       "<td>192.4418412</td></tr>\n",
       "<tr><td></td>\n",
       "<td>6</td>\n",
       "<td>0.1000001</td>\n",
       "<td>0.3312896</td>\n",
       "<td>2.0280076</td>\n",
       "<td>2.4762130</td>\n",
       "<td>0.3449708</td>\n",
       "<td>0.3590924</td>\n",
       "<td>0.4212120</td>\n",
       "<td>0.4336600</td>\n",
       "<td>0.1014005</td>\n",
       "<td>0.2476216</td>\n",
       "<td>102.8007639</td>\n",
       "<td>147.6213025</td></tr>\n",
       "<tr><td></td>\n",
       "<td>7</td>\n",
       "<td>0.1500002</td>\n",
       "<td>0.2934786</td>\n",
       "<td>1.8027058</td>\n",
       "<td>2.2517106</td>\n",
       "<td>0.3066462</td>\n",
       "<td>0.3111746</td>\n",
       "<td>0.3830234</td>\n",
       "<td>0.3928315</td>\n",
       "<td>0.0901354</td>\n",
       "<td>0.3377570</td>\n",
       "<td>80.2705758</td>\n",
       "<td>125.1710603</td></tr>\n",
       "<tr><td></td>\n",
       "<td>8</td>\n",
       "<td>0.2000002</td>\n",
       "<td>0.2658795</td>\n",
       "<td>1.6816242</td>\n",
       "<td>2.1091890</td>\n",
       "<td>0.2860498</td>\n",
       "<td>0.2791533</td>\n",
       "<td>0.3587800</td>\n",
       "<td>0.3644120</td>\n",
       "<td>0.0840813</td>\n",
       "<td>0.4218383</td>\n",
       "<td>68.1624167</td>\n",
       "<td>110.9188994</td></tr>\n",
       "<tr><td></td>\n",
       "<td>9</td>\n",
       "<td>0.3000004</td>\n",
       "<td>0.2220530</td>\n",
       "<td>1.4984755</td>\n",
       "<td>1.9056178</td>\n",
       "<td>0.2548957</td>\n",
       "<td>0.2428287</td>\n",
       "<td>0.3241519</td>\n",
       "<td>0.3238842</td>\n",
       "<td>0.1498477</td>\n",
       "<td>0.5716861</td>\n",
       "<td>49.8475541</td>\n",
       "<td>90.5617843</td></tr>\n",
       "<tr><td></td>\n",
       "<td>10</td>\n",
       "<td>0.4000005</td>\n",
       "<td>0.1852117</td>\n",
       "<td>1.2352357</td>\n",
       "<td>1.7380223</td>\n",
       "<td>0.2101177</td>\n",
       "<td>0.2036944</td>\n",
       "<td>0.2956434</td>\n",
       "<td>0.2938368</td>\n",
       "<td>0.1235237</td>\n",
       "<td>0.6952098</td>\n",
       "<td>23.5235731</td>\n",
       "<td>73.8022315</td></tr>\n",
       "<tr><td></td>\n",
       "<td>11</td>\n",
       "<td>0.5000019</td>\n",
       "<td>0.1486501</td>\n",
       "<td>1.0010548</td>\n",
       "<td>1.5906273</td>\n",
       "<td>0.1702827</td>\n",
       "<td>0.1666433</td>\n",
       "<td>0.2705710</td>\n",
       "<td>0.2683978</td>\n",
       "<td>0.1001068</td>\n",
       "<td>0.7953166</td>\n",
       "<td>0.1054755</td>\n",
       "<td>59.0627345</td></tr>\n",
       "<tr><td></td>\n",
       "<td>12</td>\n",
       "<td>0.5999995</td>\n",
       "<td>0.1132784</td>\n",
       "<td>0.7714236</td>\n",
       "<td>1.4540965</td>\n",
       "<td>0.1312217</td>\n",
       "<td>0.1309320</td>\n",
       "<td>0.2473466</td>\n",
       "<td>0.2454874</td>\n",
       "<td>0.0771406</td>\n",
       "<td>0.8724572</td>\n",
       "<td>-22.8576358</td>\n",
       "<td>45.4096489</td></tr>\n",
       "<tr><td></td>\n",
       "<td>13</td>\n",
       "<td>0.7000009</td>\n",
       "<td>0.0809176</td>\n",
       "<td>0.5341042</td>\n",
       "<td>1.3226674</td>\n",
       "<td>0.0908529</td>\n",
       "<td>0.0968285</td>\n",
       "<td>0.2249901</td>\n",
       "<td>0.2242501</td>\n",
       "<td>0.0534111</td>\n",
       "<td>0.9258683</td>\n",
       "<td>-46.5895790</td>\n",
       "<td>32.2667396</td></tr>\n",
       "<tr><td></td>\n",
       "<td>14</td>\n",
       "<td>0.7999998</td>\n",
       "<td>0.0526545</td>\n",
       "<td>0.3702264</td>\n",
       "<td>1.2036136</td>\n",
       "<td>0.0629767</td>\n",
       "<td>0.0662790</td>\n",
       "<td>0.2047387</td>\n",
       "<td>0.2045040</td>\n",
       "<td>0.0370222</td>\n",
       "<td>0.9628906</td>\n",
       "<td>-62.9773558</td>\n",
       "<td>20.3613565</td></tr>\n",
       "<tr><td></td>\n",
       "<td>15</td>\n",
       "<td>0.8999999</td>\n",
       "<td>0.0300409</td>\n",
       "<td>0.2505212</td>\n",
       "<td>1.0977143</td>\n",
       "<td>0.0426145</td>\n",
       "<td>0.0410932</td>\n",
       "<td>0.1867248</td>\n",
       "<td>0.1863472</td>\n",
       "<td>0.0250521</td>\n",
       "<td>0.9879427</td>\n",
       "<td>-74.9478844</td>\n",
       "<td>9.7714263</td></tr>\n",
       "<tr><td></td>\n",
       "<td>16</td>\n",
       "<td>1.0</td>\n",
       "<td>0.0032133</td>\n",
       "<td>0.1205728</td>\n",
       "<td>1.0</td>\n",
       "<td>0.0205098</td>\n",
       "<td>0.0203042</td>\n",
       "<td>0.1701033</td>\n",
       "<td>0.1697429</td>\n",
       "<td>0.0120573</td>\n",
       "<td>1.0</td>\n",
       "<td>-87.9427155</td>\n",
       "<td>0.0</td></tr></table></div>"
      ],
      "text/plain": [
       "    group    cumulative_data_fraction    lower_threshold    lift      cumulative_lift    response_rate    score      cumulative_response_rate    cumulative_score    capture_rate    cumulative_capture_rate    gain      cumulative_gain\n",
       "--  -------  --------------------------  -----------------  --------  -----------------  ---------------  ---------  --------------------------  ------------------  --------------  -------------------------  --------  -----------------\n",
       "    1        0.0100003                   0.598465           3.85329   3.85329            0.655458         0.671902   0.655458                    0.671902            0.0385339       0.0385339                  285.329   285.329\n",
       "    2        0.0200005                   0.509329           3.21447   3.53388            0.546792         0.551894   0.601125                    0.611898            0.0321455       0.0706795                  221.447   253.388\n",
       "    3        0.0300008                   0.451556           2.77987   3.28254            0.472864         0.47764    0.558371                    0.567145            0.0277994       0.0984788                  177.987   228.254\n",
       "    4        0.040001                    0.418123           2.43829   3.07148            0.414761         0.43345    0.522469                    0.533722            0.0243835       0.122862                   143.829   207.148\n",
       "    5        0.0500001                   0.39522            2.3361    2.92442            0.397379         0.406239   0.497453                    0.508228            0.0233587       0.146221                   133.61    192.442\n",
       "    6        0.1                         0.33129            2.02801   2.47621            0.344971         0.359092   0.421212                    0.43366             0.101401        0.247622                   102.801   147.621\n",
       "    7        0.15                        0.293479           1.80271   2.25171            0.306646         0.311175   0.383023                    0.392832            0.0901354       0.337757                   80.2706   125.171\n",
       "    8        0.2                         0.26588            1.68162   2.10919            0.28605          0.279153   0.35878                     0.364412            0.0840813       0.421838                   68.1624   110.919\n",
       "    9        0.3                         0.222053           1.49848   1.90562            0.254896         0.242829   0.324152                    0.323884            0.149848        0.571686                   49.8476   90.5618\n",
       "    10       0.4                         0.185212           1.23524   1.73802            0.210118         0.203694   0.295643                    0.293837            0.123524        0.69521                    23.5236   73.8022\n",
       "    11       0.500002                    0.14865            1.00105   1.59063            0.170283         0.166643   0.270571                    0.268398            0.100107        0.795317                   0.105475  59.0627\n",
       "    12       0.6                         0.113278           0.771424  1.4541             0.131222         0.130932   0.247347                    0.245487            0.0771406       0.872457                   -22.8576  45.4096\n",
       "    13       0.700001                    0.0809176          0.534104  1.32267            0.0908529        0.0968285  0.22499                     0.22425             0.0534111       0.925868                   -46.5896  32.2667\n",
       "    14       0.8                         0.0526545          0.370226  1.20361            0.0629767        0.066279   0.204739                    0.204504            0.0370222       0.962891                   -62.9774  20.3614\n",
       "    15       0.9                         0.0300409          0.250521  1.09771            0.0426145        0.0410932  0.186725                    0.186347            0.0250521       0.987943                   -74.9479  9.77143\n",
       "    16       1                           0.00321335         0.120573  1                  0.0205098        0.0203042  0.170103                    0.169743            0.0120573       1                          -87.9427  0"
      ]
     },
     "metadata": {},
     "output_type": "display_data"
    },
    {
     "name": "stdout",
     "output_type": "stream",
     "text": [
      "\n",
      "Scoring History: \n"
     ]
    },
    {
     "data": {
      "text/html": [
       "<div style=\"overflow:auto\"><table style=\"width:50%\"><tr><td><b></b></td>\n",
       "<td><b>timestamp</b></td>\n",
       "<td><b>duration</b></td>\n",
       "<td><b>iterations</b></td>\n",
       "<td><b>negative_log_likelihood</b></td>\n",
       "<td><b>objective</b></td></tr>\n",
       "<tr><td></td>\n",
       "<td>2019-07-03 07:01:54</td>\n",
       "<td> 0.000 sec</td>\n",
       "<td>0</td>\n",
       "<td>368889.2643871</td>\n",
       "<td>0.4560500</td></tr>\n",
       "<tr><td></td>\n",
       "<td>2019-07-03 07:01:55</td>\n",
       "<td> 0.191 sec</td>\n",
       "<td>1</td>\n",
       "<td>355420.1704827</td>\n",
       "<td>0.4393984</td></tr>\n",
       "<tr><td></td>\n",
       "<td>2019-07-03 07:01:55</td>\n",
       "<td> 0.297 sec</td>\n",
       "<td>2</td>\n",
       "<td>353082.5280828</td>\n",
       "<td>0.4365085</td></tr>\n",
       "<tr><td></td>\n",
       "<td>2019-07-03 07:01:55</td>\n",
       "<td> 0.388 sec</td>\n",
       "<td>3</td>\n",
       "<td>348109.4281023</td>\n",
       "<td>0.4303603</td></tr>\n",
       "<tr><td></td>\n",
       "<td>2019-07-03 07:01:55</td>\n",
       "<td> 0.489 sec</td>\n",
       "<td>4</td>\n",
       "<td>347369.0098876</td>\n",
       "<td>0.4294450</td></tr>\n",
       "<tr><td>---</td>\n",
       "<td>---</td>\n",
       "<td>---</td>\n",
       "<td>---</td>\n",
       "<td>---</td>\n",
       "<td>---</td></tr>\n",
       "<tr><td></td>\n",
       "<td>2019-07-03 07:02:00</td>\n",
       "<td> 5.972 sec</td>\n",
       "<td>46</td>\n",
       "<td>324574.5533690</td>\n",
       "<td>0.4012647</td></tr>\n",
       "<tr><td></td>\n",
       "<td>2019-07-03 07:02:00</td>\n",
       "<td> 6.082 sec</td>\n",
       "<td>47</td>\n",
       "<td>324308.0557898</td>\n",
       "<td>0.4009352</td></tr>\n",
       "<tr><td></td>\n",
       "<td>2019-07-03 07:02:01</td>\n",
       "<td> 6.190 sec</td>\n",
       "<td>48</td>\n",
       "<td>324231.2742131</td>\n",
       "<td>0.4008403</td></tr>\n",
       "<tr><td></td>\n",
       "<td>2019-07-03 07:02:01</td>\n",
       "<td> 6.259 sec</td>\n",
       "<td>49</td>\n",
       "<td>324170.7490058</td>\n",
       "<td>0.4007654</td></tr>\n",
       "<tr><td></td>\n",
       "<td>2019-07-03 07:02:01</td>\n",
       "<td> 6.369 sec</td>\n",
       "<td>50</td>\n",
       "<td>324055.2165096</td>\n",
       "<td>0.4006226</td></tr></table></div>"
      ],
      "text/plain": [
       "     timestamp            duration    iterations    negative_log_likelihood    objective\n",
       "---  -------------------  ----------  ------------  -------------------------  -------------------\n",
       "     2019-07-03 07:01:54  0.000 sec   0             368889.2643870594          0.45604999559521187\n",
       "     2019-07-03 07:01:55  0.191 sec   1             355420.17048274074         0.439398439671126\n",
       "     2019-07-03 07:01:55  0.297 sec   2             353082.52808284684         0.4365084618130114\n",
       "     2019-07-03 07:01:55  0.388 sec   3             348109.42810227117         0.4303603234875317\n",
       "     2019-07-03 07:01:55  0.489 sec   4             347369.0098875592          0.42944496010844546\n",
       "---  ---                  ---         ---           ---                        ---\n",
       "     2019-07-03 07:02:00  5.972 sec   46            324574.5533690085          0.4012646556147564\n",
       "     2019-07-03 07:02:00  6.082 sec   47            324308.0557898459          0.40093519029403146\n",
       "     2019-07-03 07:02:01  6.190 sec   48            324231.2742130699          0.400840266854585\n",
       "     2019-07-03 07:02:01  6.259 sec   49            324170.74900575285         0.40076544082088034\n",
       "     2019-07-03 07:02:01  6.369 sec   50            324055.21650955116         0.4006226104393255"
      ]
     },
     "metadata": {},
     "output_type": "display_data"
    },
    {
     "name": "stdout",
     "output_type": "stream",
     "text": [
      "\n",
      "See the whole table with table.as_data_frame()\n"
     ]
    },
    {
     "data": {
      "text/plain": []
     },
     "execution_count": 41,
     "metadata": {},
     "output_type": "execute_result"
    }
   ],
   "source": [
    "glm_model"
   ]
  },
  {
   "cell_type": "code",
   "execution_count": 42,
   "metadata": {},
   "outputs": [
    {
     "name": "stdout",
     "output_type": "stream",
     "text": [
      "glm prediction progress: |████████████████████████████████████████████████| 100%\n"
     ]
    },
    {
     "data": {
      "text/html": [
       "<table>\n",
       "<thead>\n",
       "<tr><th style=\"text-align: right;\">  predict</th><th style=\"text-align: right;\">      p0</th><th style=\"text-align: right;\">       p1</th></tr>\n",
       "</thead>\n",
       "<tbody>\n",
       "<tr><td style=\"text-align: right;\">        0</td><td style=\"text-align: right;\">0.829314</td><td style=\"text-align: right;\">0.170686 </td></tr>\n",
       "<tr><td style=\"text-align: right;\">        0</td><td style=\"text-align: right;\">0.926221</td><td style=\"text-align: right;\">0.0737793</td></tr>\n",
       "<tr><td style=\"text-align: right;\">        0</td><td style=\"text-align: right;\">0.844975</td><td style=\"text-align: right;\">0.155025 </td></tr>\n",
       "<tr><td style=\"text-align: right;\">        1</td><td style=\"text-align: right;\">0.775156</td><td style=\"text-align: right;\">0.224844 </td></tr>\n",
       "<tr><td style=\"text-align: right;\">        0</td><td style=\"text-align: right;\">0.874412</td><td style=\"text-align: right;\">0.125588 </td></tr>\n",
       "<tr><td style=\"text-align: right;\">        0</td><td style=\"text-align: right;\">0.862445</td><td style=\"text-align: right;\">0.137555 </td></tr>\n",
       "<tr><td style=\"text-align: right;\">        0</td><td style=\"text-align: right;\">0.84758 </td><td style=\"text-align: right;\">0.15242  </td></tr>\n",
       "<tr><td style=\"text-align: right;\">        0</td><td style=\"text-align: right;\">0.842616</td><td style=\"text-align: right;\">0.157384 </td></tr>\n",
       "<tr><td style=\"text-align: right;\">        1</td><td style=\"text-align: right;\">0.619326</td><td style=\"text-align: right;\">0.380674 </td></tr>\n",
       "<tr><td style=\"text-align: right;\">        1</td><td style=\"text-align: right;\">0.774978</td><td style=\"text-align: right;\">0.225022 </td></tr>\n",
       "</tbody>\n",
       "</table>"
      ]
     },
     "metadata": {},
     "output_type": "display_data"
    },
    {
     "data": {
      "text/plain": []
     },
     "execution_count": 42,
     "metadata": {},
     "output_type": "execute_result"
    }
   ],
   "source": [
    "# Get the predictions on test dataset\n",
    "predictions = glm_model.predict(test_data=test)\n",
    "predictions"
   ]
  },
  {
   "cell_type": "code",
   "execution_count": 43,
   "metadata": {},
   "outputs": [
    {
     "name": "stderr",
     "output_type": "stream",
     "text": [
      "/opt/conda/anaconda/lib/python3.6/site-packages/ipykernel_launcher.py:3: FutureWarning: Method .as_matrix will be removed in a future version. Use .values instead.\n",
      "  This is separate from the ipykernel package so we can avoid doing imports until\n"
     ]
    },
    {
     "name": "stdout",
     "output_type": "stream",
     "text": [
      "glm model test accuracy = 0.6944132579558664\n"
     ]
    }
   ],
   "source": [
    "from sklearn.metrics import accuracy_score\n",
    "\n",
    "glm_model_test_acc = accuracy_score(test['click'].as_data_frame().as_matrix(), predictions['predict'].as_data_frame().as_matrix())\n",
    "print('glm model test accuracy = {}'.format(glm_model_test_acc))"
   ]
  },
  {
   "cell_type": "code",
   "execution_count": 46,
   "metadata": {},
   "outputs": [
    {
     "name": "stderr",
     "output_type": "stream",
     "text": [
      "/opt/conda/anaconda/lib/python3.6/site-packages/ipykernel_launcher.py:3: FutureWarning: Method .as_matrix will be removed in a future version. Use .values instead.\n",
      "  This is separate from the ipykernel package so we can avoid doing imports until\n"
     ]
    },
    {
     "name": "stdout",
     "output_type": "stream",
     "text": [
      "glm model test f1 score = 0.41163079866092783\n"
     ]
    }
   ],
   "source": [
    "from sklearn.metrics import f1_score\n",
    "\n",
    "glm_f1 = f1_score(test['click'].as_data_frame().as_matrix(), predictions['predict'].as_data_frame().as_matrix()) \n",
    "\n",
    "print('glm model test f1 score = {}'.format(glm_f1))"
   ]
  },
  {
   "cell_type": "code",
   "execution_count": 47,
   "metadata": {},
   "outputs": [
    {
     "name": "stderr",
     "output_type": "stream",
     "text": [
      "/opt/conda/anaconda/lib/python3.6/site-packages/ipykernel_launcher.py:51: FutureWarning: Method .as_matrix will be removed in a future version. Use .values instead.\n"
     ]
    },
    {
     "data": {
      "image/png": "[encoded data removed]",
      "text/plain": [
       "<Figure size 720x576 with 2 Axes>"
      ]
     },
     "metadata": {},
     "output_type": "display_data"
    }
   ],
   "source": [
    "import numpy as np\n",
    "import pandas as pd\n",
    "import matplotlib.pyplot as plt\n",
    "import seaborn as sns\n",
    "from sklearn.metrics import confusion_matrix\n",
    "\n",
    "def plot_confusion_matrix(y_true, y_pred, filename, labels, ymap=None, figsize=(10,10)):\n",
    "    \"\"\"\n",
    "    Generate matrix plot of confusion matrix with pretty annotations.\n",
    "    The plot image is saved to disk.\n",
    "    args: \n",
    "      y_true:    true label of the data, with shape (nsamples,)\n",
    "      y_pred:    prediction of the data, with shape (nsamples,)\n",
    "      filename:  filename of figure file to save\n",
    "      labels:    string array, name the order of class labels in the confusion matrix.\n",
    "                 use `clf.classes_` if using scikit-learn models.\n",
    "                 with shape (nclass,).\n",
    "      ymap:      dict: any -> string, length == nclass.\n",
    "                 if not None, map the labels & ys to more understandable strings.\n",
    "                 Caution: original y_true, y_pred and labels must align.\n",
    "      figsize:   the size of the figure plotted.\n",
    "    \"\"\"\n",
    "    if ymap is not None:\n",
    "        y_pred = [ymap[yi] for yi in y_pred]\n",
    "        y_true = [ymap[yi] for yi in y_true]\n",
    "        labels = [ymap[yi] for yi in labels]\n",
    "    cm = confusion_matrix(y_true, y_pred, labels=labels)\n",
    "    cm_sum = np.sum(cm, axis=1, keepdims=True)\n",
    "    cm_perc = cm / cm_sum.astype(float) * 100\n",
    "    annot = np.empty_like(cm).astype(str)\n",
    "    nrows, ncols = cm.shape\n",
    "    for i in range(nrows):\n",
    "        for j in range(ncols):\n",
    "            c = cm[i, j]\n",
    "            p = cm_perc[i, j]\n",
    "            if i == j:\n",
    "                s = cm_sum[i]\n",
    "                annot[i, j] = '%.1f%%\\n%d/%d' % (p, c, s)\n",
    "            elif c == 0:\n",
    "                annot[i, j] = ''\n",
    "            else:\n",
    "                annot[i, j] = '%.1f%%\\n%d' % (p, c)\n",
    "    cm = pd.DataFrame(cm, index=labels, columns=labels)\n",
    "    cm.index.name = 'Actual'\n",
    "    cm.columns.name = 'Predicted'\n",
    "    fig, ax = plt.subplots(figsize=figsize)\n",
    "    sns.heatmap(cm, annot=annot, fmt='', ax=ax)\n",
    "    plt.title(\"Confustion Matrix\")\n",
    "#     plt.savefig(filename)\n",
    "\n",
    "plot_confusion_matrix(test['click'].as_data_frame().as_matrix(), predictions['predict'].as_data_frame().as_matrix(), 'filename', [0, 1], ymap=None, figsize=(10,8))\n"
   ]
  },
  {
   "cell_type": "markdown",
   "metadata": {},
   "source": [
    "**Notes on GLM model:**\n",
    "\n",
    "- the train accuracy is 83%, hihger than the testing one which is 69.4%. The model does not generalise that well on new data. In a way this is expected because there are so many unique values to be considered (~170k) and it is recommended to include more data.\n",
    "- training precision and recall are quite high, but the f1 score (combination of both precision and recall) is about 0.41. For classification models, it is good practice to aim for a high f1 score instead of watching the accuracy. The test f1 score = 0.41. \n",
    "- confusion matrix shows that ~30% of label 0 (non-click -- false positive) was not predicted well and about 36% of label 1 (click  -- false negative) was not predicted well. \n",
    "\n",
    "Next steps: \n",
    "- this model does not include any regularization like l1 or/and l2. This can be explored, but before doing that let's try another famiyl model such as tree based (xgboost). \n"
   ]
  },
  {
   "cell_type": "markdown",
   "metadata": {},
   "source": []
  },
  {
   "cell_type": "code",
   "execution_count": null,
   "metadata": {},
   "outputs": [],
   "source": []
  },
  {
   "cell_type": "code",
   "execution_count": null,
   "metadata": {},
   "outputs": [],
   "source": []
  },
  {
   "cell_type": "code",
   "execution_count": null,
   "metadata": {},
   "outputs": [],
   "source": []
  },
  {
   "cell_type": "code",
   "execution_count": null,
   "metadata": {},
   "outputs": [],
   "source": []
  },
  {
   "cell_type": "code",
   "execution_count": null,
   "metadata": {},
   "outputs": [],
   "source": [
    "\n",
    "\n",
    "\n",
    "\n",
    "\n",
    "\n"
   ]
  }
 ],
 "metadata": {
  "kernelspec": {
   "display_name": "Python 3",
   "language": "python",
   "name": "python3"
  },
  "language_info": {
   "codemirror_mode": {
    "name": "ipython",
    "version": 3
   },
   "file_extension": ".py",
   "mimetype": "text/x-python",
   "name": "python",
   "nbconvert_exporter": "python",
   "pygments_lexer": "ipython3",
   "version": "3.6.5"
  },
  "toc": {
   "base_numbering": 1,
   "nav_menu": {},
   "number_sections": false,
   "sideBar": true,
   "skip_h1_title": false,
   "title_cell": "Table of Contents",
   "title_sidebar": "Contents",
   "toc_cell": false,
   "toc_position": {
    "height": "calc(100% - 180px)",
    "left": "10px",
    "top": "150px",
    "width": "204px"
   },
   "toc_section_display": true,
   "toc_window_display": true
  },
  "varInspector": {
   "cols": {
    "lenName": 16,
    "lenType": 16,
    "lenVar": 40
   },
   "kernels_config": {
    "python": {
     "delete_cmd_postfix": "",
     "delete_cmd_prefix": "del ",
     "library": "var_list.py",
     "varRefreshCmd": "print(var_dic_list())"
    },
    "r": {
     "delete_cmd_postfix": ") ",
     "delete_cmd_prefix": "rm(",
     "library": "var_list.r",
     "varRefreshCmd": "cat(var_dic_list()) "
    }
   },
   "types_to_exclude": [
    "module",
    "function",
    "builtin_function_or_method",
    "instance",
    "_Feature"
   ],
   "window_display": false
  }
 },
 "nbformat": 4,
 "nbformat_minor": 2
}